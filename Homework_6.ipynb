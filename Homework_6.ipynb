{
 "cells": [
  {
   "cell_type": "markdown",
   "id": "82257f9b",
   "metadata": {},
   "source": [
    "ЗАДАЧА 1\n",
    "Известно, что генеральная совокупность распределена нормально\n",
    "со средним квадратическим отклонением, равным 16.\n",
    "Найти доверительный интервал для оценки математического ожидания a с надежностью 0.95,\n",
    "если выборочная средняя M = 80, а объем выборки n = 256.\n",
    "а = 1 - 0.95\n",
    "z = 1.96 для а/2 = 0.025"
   ]
  },
  {
   "cell_type": "code",
   "execution_count": 1,
   "id": "2781f21d",
   "metadata": {},
   "outputs": [],
   "source": [
    "import numpy as np\n",
    "import scipy.stats as stats"
   ]
  },
  {
   "cell_type": "code",
   "execution_count": 2,
   "id": "785b2029",
   "metadata": {},
   "outputs": [],
   "source": [
    "x = 80\n",
    "d = 16\n",
    "n = 256"
   ]
  },
  {
   "cell_type": "code",
   "execution_count": 3,
   "id": "c102a71a",
   "metadata": {},
   "outputs": [
    {
     "data": {
      "text/plain": [
       "78.04"
      ]
     },
     "execution_count": 3,
     "metadata": {},
     "output_type": "execute_result"
    }
   ],
   "source": [
    "t_1 = 80 - (1.96*16/np.sqrt(256))\n",
    "t_1"
   ]
  },
  {
   "cell_type": "code",
   "execution_count": 4,
   "id": "5d48cca6",
   "metadata": {},
   "outputs": [
    {
     "data": {
      "text/plain": [
       "81.96"
      ]
     },
     "execution_count": 4,
     "metadata": {},
     "output_type": "execute_result"
    }
   ],
   "source": [
    "t_2 = 80 + (1.96*16/np.sqrt(256))\n",
    "t_2"
   ]
  },
  {
   "cell_type": "markdown",
   "id": "842ff889",
   "metadata": {},
   "source": [
    "Ответ: [78.04; 81.96]"
   ]
  },
  {
   "cell_type": "markdown",
   "id": "8c02d38b",
   "metadata": {},
   "source": [
    "ЗАДАЧА 2\n",
    "В результате 10 независимых измерений некоторой величины X, выполненных с одинаковой точностью,\n",
    "получены опытные данные:\n",
    "6.9, 6.1, 6.2, 6.8, 7.5, 6.3, 6.4, 6.9, 6.7, 6.1\n",
    "Предполагая, что результаты измерений подчинены нормальному закону распределения вероятностей,\n",
    "оценить истинное значение величины X при помощи доверительного интервала, покрывающего это\n",
    "значение с доверительной вероятностью 0,95."
   ]
  },
  {
   "cell_type": "code",
   "execution_count": 5,
   "id": "9ebb2f98",
   "metadata": {},
   "outputs": [],
   "source": [
    "a = np.array([6.9, 6.1, 6.2, 6.8, 7.5, 6.3, 6.4, 6.9, 6.7, 6.1])"
   ]
  },
  {
   "cell_type": "code",
   "execution_count": 6,
   "id": "454ca4bb",
   "metadata": {},
   "outputs": [
    {
     "data": {
      "text/plain": [
       "6.590000000000001"
      ]
     },
     "execution_count": 6,
     "metadata": {},
     "output_type": "execute_result"
    }
   ],
   "source": [
    "x_1 = np.mean(a)\n",
    "x_1"
   ]
  },
  {
   "cell_type": "code",
   "execution_count": 7,
   "id": "cc9f62c4",
   "metadata": {},
   "outputs": [
    {
     "data": {
      "text/plain": [
       "0.2032222222222223"
      ]
     },
     "execution_count": 7,
     "metadata": {},
     "output_type": "execute_result"
    }
   ],
   "source": [
    "D1 = np.var(a, ddof = 1)\n",
    "D1"
   ]
  },
  {
   "cell_type": "code",
   "execution_count": 8,
   "id": "281f975b",
   "metadata": {},
   "outputs": [
    {
     "data": {
      "text/plain": [
       "2.2621571627409915"
      ]
     },
     "execution_count": 8,
     "metadata": {},
     "output_type": "execute_result"
    }
   ],
   "source": [
    "t1 = stats.t.ppf(0.975, 9)\n",
    "t1"
   ]
  },
  {
   "cell_type": "code",
   "execution_count": 9,
   "id": "1e5a3875",
   "metadata": {},
   "outputs": [
    {
     "data": {
      "text/plain": [
       "6.267515851415713"
      ]
     },
     "execution_count": 9,
     "metadata": {},
     "output_type": "execute_result"
    }
   ],
   "source": [
    "L = x_1 - t1*np.sqrt(D1/10)\n",
    "L"
   ]
  },
  {
   "cell_type": "code",
   "execution_count": 10,
   "id": "729c4c3e",
   "metadata": {},
   "outputs": [
    {
     "data": {
      "text/plain": [
       "6.912484148584288"
      ]
     },
     "execution_count": 10,
     "metadata": {},
     "output_type": "execute_result"
    }
   ],
   "source": [
    "U = x_1 + t1*np.sqrt(D1/10)\n",
    "U"
   ]
  },
  {
   "cell_type": "markdown",
   "id": "b8ebec12",
   "metadata": {},
   "source": [
    "Ответ: [6.27; 6.91]"
   ]
  },
  {
   "cell_type": "markdown",
   "id": "4bd01712",
   "metadata": {},
   "source": [
    "ЗАДАЧА 3\n",
    "Рост дочерей 175, 167, 154, 174, 178, 148, 160, 167, 169, 170\n",
    "Рост матерей 178, 165, 165, 173, 168, 155, 160, 164, 178, 175\n",
    "Используя эти данные построить 95% доверительный интервал для разности среднего роста \n",
    "родителей и детей."
   ]
  },
  {
   "cell_type": "code",
   "execution_count": 11,
   "id": "e4c4408f",
   "metadata": {},
   "outputs": [],
   "source": [
    "a = np.array([175, 167, 154, 174, 178, 148, 160, 167, 169, 170])\n",
    "b = np.array([178, 165, 165, 173, 168, 155, 160, 164, 178, 175])"
   ]
  },
  {
   "cell_type": "code",
   "execution_count": 12,
   "id": "7fac0e1f",
   "metadata": {},
   "outputs": [
    {
     "data": {
      "text/plain": [
       "10"
      ]
     },
     "execution_count": 12,
     "metadata": {},
     "output_type": "execute_result"
    }
   ],
   "source": [
    "len(a)"
   ]
  },
  {
   "cell_type": "code",
   "execution_count": 13,
   "id": "16d95414",
   "metadata": {},
   "outputs": [
    {
     "data": {
      "text/plain": [
       "10"
      ]
     },
     "execution_count": 13,
     "metadata": {},
     "output_type": "execute_result"
    }
   ],
   "source": [
    "len(b)"
   ]
  },
  {
   "cell_type": "code",
   "execution_count": 14,
   "id": "5e0c165c",
   "metadata": {},
   "outputs": [
    {
     "data": {
      "text/plain": [
       "166.2"
      ]
     },
     "execution_count": 14,
     "metadata": {},
     "output_type": "execute_result"
    }
   ],
   "source": [
    "x_1 = np.mean(a)\n",
    "x_1"
   ]
  },
  {
   "cell_type": "code",
   "execution_count": 15,
   "id": "382c2b44",
   "metadata": {},
   "outputs": [
    {
     "data": {
      "text/plain": [
       "168.1"
      ]
     },
     "execution_count": 15,
     "metadata": {},
     "output_type": "execute_result"
    }
   ],
   "source": [
    "x_2 = np.mean(b)\n",
    "x_2"
   ]
  },
  {
   "cell_type": "code",
   "execution_count": 16,
   "id": "adadc098",
   "metadata": {},
   "outputs": [
    {
     "data": {
      "text/plain": [
       "-1.9000000000000057"
      ]
     },
     "execution_count": 16,
     "metadata": {},
     "output_type": "execute_result"
    }
   ],
   "source": [
    "delta = x_1 - x_2\n",
    "delta"
   ]
  },
  {
   "cell_type": "code",
   "execution_count": 17,
   "id": "62ab0f56",
   "metadata": {},
   "outputs": [
    {
     "data": {
      "text/plain": [
       "91.06666666666666"
      ]
     },
     "execution_count": 17,
     "metadata": {},
     "output_type": "execute_result"
    }
   ],
   "source": [
    "D1 = np.var(a, ddof = 1)\n",
    "D1"
   ]
  },
  {
   "cell_type": "code",
   "execution_count": 18,
   "id": "aa51835e",
   "metadata": {},
   "outputs": [
    {
     "data": {
      "text/plain": [
       "60.10000000000001"
      ]
     },
     "execution_count": 18,
     "metadata": {},
     "output_type": "execute_result"
    }
   ],
   "source": [
    "D2 = np.var(b, ddof = 1)\n",
    "D2"
   ]
  },
  {
   "cell_type": "code",
   "execution_count": 19,
   "id": "136045ce",
   "metadata": {},
   "outputs": [
    {
     "data": {
      "text/plain": [
       "75.58333333333334"
      ]
     },
     "execution_count": 19,
     "metadata": {},
     "output_type": "execute_result"
    }
   ],
   "source": [
    "D = (D1 + D2)/2\n",
    "D"
   ]
  },
  {
   "cell_type": "code",
   "execution_count": 20,
   "id": "ace3dbff",
   "metadata": {},
   "outputs": [
    {
     "data": {
      "text/plain": [
       "3.8880157750022915"
      ]
     },
     "execution_count": 20,
     "metadata": {},
     "output_type": "execute_result"
    }
   ],
   "source": [
    "SE = np.sqrt(D/10 + D/10)\n",
    "SE"
   ]
  },
  {
   "cell_type": "code",
   "execution_count": 21,
   "id": "3d270763",
   "metadata": {},
   "outputs": [
    {
     "data": {
      "text/plain": [
       "2.10092204024096"
      ]
     },
     "execution_count": 21,
     "metadata": {},
     "output_type": "execute_result"
    }
   ],
   "source": [
    "t = stats.t.ppf(0.975, 18)\n",
    "t"
   ]
  },
  {
   "cell_type": "code",
   "execution_count": 22,
   "id": "a572bd26",
   "metadata": {},
   "outputs": [
    {
     "data": {
      "text/plain": [
       "-10.068418034506857"
      ]
     },
     "execution_count": 22,
     "metadata": {},
     "output_type": "execute_result"
    }
   ],
   "source": [
    "L = delta - t*SE\n",
    "L"
   ]
  },
  {
   "cell_type": "code",
   "execution_count": 23,
   "id": "23f68107",
   "metadata": {},
   "outputs": [
    {
     "data": {
      "text/plain": [
       "6.268418034506846"
      ]
     },
     "execution_count": 23,
     "metadata": {},
     "output_type": "execute_result"
    }
   ],
   "source": [
    "U = delta + t*SE\n",
    "U"
   ]
  },
  {
   "cell_type": "code",
   "execution_count": null,
   "id": "3152814f",
   "metadata": {},
   "outputs": [],
   "source": [
    "Ответ: [-10.07; 6.27]"
   ]
  }
 ],
 "metadata": {
  "kernelspec": {
   "display_name": "Python 3 (ipykernel)",
   "language": "python",
   "name": "python3"
  },
  "language_info": {
   "codemirror_mode": {
    "name": "ipython",
    "version": 3
   },
   "file_extension": ".py",
   "mimetype": "text/x-python",
   "name": "python",
   "nbconvert_exporter": "python",
   "pygments_lexer": "ipython3",
   "version": "3.9.12"
  }
 },
 "nbformat": 4,
 "nbformat_minor": 5
}
