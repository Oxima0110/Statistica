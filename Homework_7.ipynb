{
 "cells": [
  {
   "cell_type": "markdown",
   "id": "1777c5c9",
   "metadata": {},
   "source": [
    "ЗАДАЧА 1:\n",
    "Даны две независимые выборки. Не соблюдается условие нормальности\n",
    "x1 380,420, 290\n",
    "y1 140,360,200,900\n",
    "Сделайте вывод по результатам, полученным с помощью функции\n",
    "H0: m = m0\n",
    "H1: m != m0\n",
    "a = 0.05"
   ]
  },
  {
   "cell_type": "code",
   "execution_count": 1,
   "id": "af29a050",
   "metadata": {},
   "outputs": [],
   "source": [
    "import numpy as np\n",
    "import scipy.stats as stats"
   ]
  },
  {
   "cell_type": "code",
   "execution_count": 6,
   "id": "3e801ca4",
   "metadata": {},
   "outputs": [],
   "source": [
    "x1 = np.array([380, 420, 290])\n",
    "x2 = np.array([140, 360, 200, 900])"
   ]
  },
  {
   "cell_type": "code",
   "execution_count": 7,
   "id": "9d7eb78c",
   "metadata": {},
   "outputs": [
    {
     "data": {
      "text/plain": [
       "MannwhitneyuResult(statistic=8.0, pvalue=0.6285714285714286)"
      ]
     },
     "execution_count": 7,
     "metadata": {},
     "output_type": "execute_result"
    }
   ],
   "source": [
    "stats.mannwhitneyu(x1, x2)"
   ]
  },
  {
   "cell_type": "code",
   "execution_count": null,
   "id": "deb76da9",
   "metadata": {},
   "outputs": [],
   "source": [
    "pvalue (0.629) > a(0.05)\n",
    "Вывод: Гипотеза H0 (нет статистических значимых различий) верна при а = 0.05"
   ]
  },
  {
   "cell_type": "markdown",
   "id": "291c7d35",
   "metadata": {},
   "source": [
    "ЗАДАЧА 2:\n",
    "Исследовалось влияние препарата на уровень давления пациентов. Сначала измерялось давление до приема \n",
    "препарата, потом через 10 минут и через 30 минут. Есть ли статистически значимые различия?\n",
    "1е измерение до приема препарата: 150, 160, 165, 145, 155\n",
    "2е измерение через 10 минут: 140, 155, 150, 130, 135\n",
    "3е измерение через 30 минут: 130, 130, 120, 130, 125\n",
    "H0: m = m0\n",
    "H1: m != m0\n",
    "a = 0.05    "
   ]
  },
  {
   "cell_type": "code",
   "execution_count": 8,
   "id": "ad142416",
   "metadata": {},
   "outputs": [],
   "source": [
    "izm1 = np.array([150, 160, 165, 145, 155])\n",
    "izm2 = np.array([140, 155, 150, 130, 135])\n",
    "izm3 = np.array([130, 130, 120, 130, 125])"
   ]
  },
  {
   "cell_type": "code",
   "execution_count": 9,
   "id": "079912cc",
   "metadata": {},
   "outputs": [
    {
     "data": {
      "text/plain": [
       "FriedmanchisquareResult(statistic=9.578947368421062, pvalue=0.00831683351100441)"
      ]
     },
     "execution_count": 9,
     "metadata": {},
     "output_type": "execute_result"
    }
   ],
   "source": [
    "stats.friedmanchisquare(izm1, izm2, izm3)"
   ]
  },
  {
   "cell_type": "markdown",
   "id": "5f314379",
   "metadata": {},
   "source": [
    "pvalue(0.00831683351100441) < a(0.05)\n",
    "Вывод: Верна гипотеза Н1 (есть статистических значимые различия) при а = 0ю05"
   ]
  },
  {
   "cell_type": "markdown",
   "id": "e55be4dd",
   "metadata": {},
   "source": [
    "ЗАДАЧА 3:\n",
    "Сравните 1 и 2 е измерения, предполагая, что 3го измерения через 30 минут не было.\n",
    "H0: m = m0\n",
    "H1: m != m0\n",
    "a = 0.05"
   ]
  },
  {
   "cell_type": "code",
   "execution_count": 10,
   "id": "6798e9a7",
   "metadata": {},
   "outputs": [],
   "source": [
    "izm1 = np.array([150, 160, 165, 145, 155])\n",
    "izm2 = np.array([140, 155, 150, 130, 135])"
   ]
  },
  {
   "cell_type": "code",
   "execution_count": 11,
   "id": "45274750",
   "metadata": {},
   "outputs": [
    {
     "data": {
      "text/plain": [
       "WilcoxonResult(statistic=0.0, pvalue=0.0625)"
      ]
     },
     "execution_count": 11,
     "metadata": {},
     "output_type": "execute_result"
    }
   ],
   "source": [
    "stats.wilcoxon(izm1, izm2)"
   ]
  },
  {
   "cell_type": "markdown",
   "id": "4ba9ded7",
   "metadata": {},
   "source": [
    "pvalue (0.0625) > a(0.05)\n",
    "Вывод: Гипотеза H0 (нет статистических значимых различий) верна при а = 0.05"
   ]
  },
  {
   "cell_type": "markdown",
   "id": "165ac891",
   "metadata": {},
   "source": [
    "ЗАДАЧА 4:\n",
    "Даны 3 группы учеников плавания.\n",
    "В 1 группе время на дистанцию 50 м составляют:\n",
    "56, 60, 62, 55, 71, 67, 59, 58, 64, 67\n",
    "Вторая группа : 57, 58, 69, 48, 72, 70, 68, 71, 50, 53\n",
    "Третья группа: 57, 67, 49, 48, 47, 55, 66, 51, 54 \n",
    "H0: m = m0\n",
    "H1: m != m0\n",
    "a = 0.05"
   ]
  },
  {
   "cell_type": "code",
   "execution_count": 12,
   "id": "7162bc89",
   "metadata": {},
   "outputs": [],
   "source": [
    "gr1 = np.array([56, 60, 62, 55, 71, 67, 59, 58, 64, 67])\n",
    "gr2 = np.array([57, 58, 69, 48, 72, 70, 68, 71, 50, 53])\n",
    "gr3 = np.array([57, 67, 49, 48, 47, 55, 66, 51, 54])"
   ]
  },
  {
   "cell_type": "code",
   "execution_count": 13,
   "id": "ff24cb9d",
   "metadata": {},
   "outputs": [
    {
     "data": {
      "text/plain": [
       "KruskalResult(statistic=5.465564058257224, pvalue=0.0650380998590494)"
      ]
     },
     "execution_count": 13,
     "metadata": {},
     "output_type": "execute_result"
    }
   ],
   "source": [
    "stats.kruskal(gr1, gr2, gr3)"
   ]
  },
  {
   "cell_type": "markdown",
   "id": "bc8ab8c0",
   "metadata": {},
   "source": [
    "pvalue (0.0650380998590494) > a(0.05)\n",
    "Вывод: Гипотеза H0 (нет статистических значимых различий) верна при а = 0.05"
   ]
  },
  {
   "cell_type": "markdown",
   "id": "5bed99d1",
   "metadata": {},
   "source": [
    "ЗАДАЧА 5:\n",
    "Заявляется, что партия изготавливается со средним арифметическим 2,5 см. \n",
    "Проверить данную гипотезу, если известно, что размеры изделий подчинены нормальному закону \n",
    "распределения. Объем выборки 10, уровень статистической значимости 5%\n",
    "2.51, 2.35, 2.74, 2.56, 2.40, 2.36, 2.65, 2.7, 2.67, 2.34 \n",
    "H0: m = m0\n",
    "H1: m != m0\n",
    "a = 0.05\n",
    "n = 10\n",
    "m0 = 2.5\n",
    "t0 = 2.262 (табличное значение)"
   ]
  },
  {
   "cell_type": "code",
   "execution_count": 14,
   "id": "12ca25b0",
   "metadata": {},
   "outputs": [],
   "source": [
    "x = np.array([2.51, 2.35, 2.74, 2.56, 2.40, 2.36, 2.65, 2.7, 2.67, 2.34])"
   ]
  },
  {
   "cell_type": "markdown",
   "id": "dba3a211",
   "metadata": {},
   "source": [
    "1.среднее арифметическое"
   ]
  },
  {
   "cell_type": "code",
   "execution_count": 28,
   "id": "71e6d221",
   "metadata": {},
   "outputs": [
    {
     "data": {
      "text/plain": [
       "2.5279999999999996"
      ]
     },
     "execution_count": 28,
     "metadata": {},
     "output_type": "execute_result"
    }
   ],
   "source": [
    "arr = [2.51, 2.35, 2.74, 2.56, 2.40, 2.36, 2.65, 2.7, 2.67, 2.34]\n",
    "m1 = sum(arr)/len(arr)\n",
    "m1"
   ]
  },
  {
   "cell_type": "code",
   "execution_count": 29,
   "id": "a3e3c669",
   "metadata": {},
   "outputs": [
    {
     "data": {
      "text/plain": [
       "2.5279999999999996"
      ]
     },
     "execution_count": 29,
     "metadata": {},
     "output_type": "execute_result"
    }
   ],
   "source": [
    "np.mean(x)"
   ]
  },
  {
   "cell_type": "markdown",
   "id": "e03e1afb",
   "metadata": {},
   "source": [
    "2.среднее квадратичное отклонение"
   ]
  },
  {
   "cell_type": "code",
   "execution_count": 40,
   "id": "1834aa21",
   "metadata": {},
   "outputs": [
    {
     "data": {
      "text/plain": [
       "0.1572542173961923"
      ]
     },
     "execution_count": 40,
     "metadata": {},
     "output_type": "execute_result"
    }
   ],
   "source": [
    "disp = (sum((x - m1)**2 for x in arr)/(10 - 1))**0.5\n",
    "disp"
   ]
  },
  {
   "cell_type": "code",
   "execution_count": 34,
   "id": "bb7d9195",
   "metadata": {},
   "outputs": [
    {
     "data": {
      "text/plain": [
       "0.1572542173961923"
      ]
     },
     "execution_count": 34,
     "metadata": {},
     "output_type": "execute_result"
    }
   ],
   "source": [
    "np.std(x, ddof = 1)"
   ]
  },
  {
   "cell_type": "code",
   "execution_count": 41,
   "id": "350b5b53",
   "metadata": {},
   "outputs": [
    {
     "data": {
      "text/plain": [
       "0.5630613661802959"
      ]
     },
     "execution_count": 41,
     "metadata": {},
     "output_type": "execute_result"
    }
   ],
   "source": [
    "m0 = 2.5\n",
    "t = (m1 - m0)/(disp/(10**0.5))\n",
    "t"
   ]
  },
  {
   "cell_type": "markdown",
   "id": "baee1ff7",
   "metadata": {},
   "source": [
    "t(0.5935187931919458) < t0(2.262)\n",
    "Вывод: Принимаем гипотезу Н0"
   ]
  },
  {
   "cell_type": "code",
   "execution_count": 24,
   "id": "49abb9d6",
   "metadata": {},
   "outputs": [
    {
     "data": {
      "text/plain": [
       "Ttest_1sampResult(statistic=0.5630613661802959, pvalue=0.5871439993940628)"
      ]
     },
     "execution_count": 24,
     "metadata": {},
     "output_type": "execute_result"
    }
   ],
   "source": [
    "stats.ttest_1samp(x, 2.5)"
   ]
  },
  {
   "cell_type": "code",
   "execution_count": null,
   "id": "20dda80e",
   "metadata": {},
   "outputs": [],
   "source": [
    "pvalue(0.5871439993940628) > a(0.05)\n",
    "Вывод: Принимаем гипотезу Н0"
   ]
  }
 ],
 "metadata": {
  "kernelspec": {
   "display_name": "Python 3 (ipykernel)",
   "language": "python",
   "name": "python3"
  },
  "language_info": {
   "codemirror_mode": {
    "name": "ipython",
    "version": 3
   },
   "file_extension": ".py",
   "mimetype": "text/x-python",
   "name": "python",
   "nbconvert_exporter": "python",
   "pygments_lexer": "ipython3",
   "version": "3.9.12"
  }
 },
 "nbformat": 4,
 "nbformat_minor": 5
}
