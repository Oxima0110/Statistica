{
  "metadata": {
    "language_info": {
      "codemirror_mode": {
        "name": "python",
        "version": 3
      },
      "file_extension": ".py",
      "mimetype": "text/x-python",
      "name": "python",
      "nbconvert_exporter": "python",
      "pygments_lexer": "ipython3",
      "version": "3.8"
    },
    "kernelspec": {
      "name": "python",
      "display_name": "Python (Pyodide)",
      "language": "python"
    }
  },
  "nbformat_minor": 4,
  "nbformat": 4,
  "cells": [
    {
      "cell_type": "markdown",
      "source": "ЗАДАЧА 1\nИз колоды в 52 карты извлекаются случайным образом 4 карты. a) Найти вероятность того, что все карты – крести. б) Найти вероятность, что среди 4-х карт окажется хотя бы один туз.",
      "metadata": {}
    },
    {
      "cell_type": "code",
      "source": "from math import factorial\ndef perestanovka(n):\n    return factorial(n)\ndef rzmeshenia(n,k):\n    return factorial(n)/factorial(n-k)\ndef sochetanie(n, k):\n    return factorial(n)/(factorial(k)*factorial(n-k))",
      "metadata": {
        "trusted": true
      },
      "execution_count": 3,
      "outputs": []
    },
    {
      "cell_type": "markdown",
      "source": "Общее количество возможных сочетаний сочетаний при выборе 4 карт из колоды в 52 карты",
      "metadata": {}
    },
    {
      "cell_type": "code",
      "source": "sochetanie(52,4)",
      "metadata": {
        "trusted": true
      },
      "execution_count": 4,
      "outputs": [
        {
          "execution_count": 4,
          "output_type": "execute_result",
          "data": {
            "text/plain": "270725.0"
          },
          "metadata": {}
        }
      ]
    },
    {
      "cell_type": "markdown",
      "source": "a) Найти вероятность того, что все карты – крести.\nРассчитаем количество возможных сочетаний 4 различных карт крести из общего числа 13 карт крести",
      "metadata": {}
    },
    {
      "cell_type": "code",
      "source": "sochetanie(13,4)",
      "metadata": {
        "trusted": true
      },
      "execution_count": 5,
      "outputs": [
        {
          "execution_count": 5,
          "output_type": "execute_result",
          "data": {
            "text/plain": "715.0"
          },
          "metadata": {}
        }
      ]
    },
    {
      "cell_type": "markdown",
      "source": "Вероятность получения 4-х карт крести из 4:",
      "metadata": {}
    },
    {
      "cell_type": "code",
      "source": "715/270725",
      "metadata": {
        "trusted": true
      },
      "execution_count": 6,
      "outputs": [
        {
          "execution_count": 6,
          "output_type": "execute_result",
          "data": {
            "text/plain": "0.0026410564225690276"
          },
          "metadata": {}
        }
      ]
    },
    {
      "cell_type": "markdown",
      "source": "б) Найти вероятность, что среди 4-х карт окажется хотя бы один туз.\nРассчитаем количество возможных сочетаний 1 туза из общего числа 4 тузов",
      "metadata": {}
    },
    {
      "cell_type": "code",
      "source": "sochetanie(4,1)",
      "metadata": {
        "trusted": true
      },
      "execution_count": 7,
      "outputs": [
        {
          "execution_count": 7,
          "output_type": "execute_result",
          "data": {
            "text/plain": "4.0"
          },
          "metadata": {}
        }
      ]
    },
    {
      "cell_type": "markdown",
      "source": "Рассчитаем количество возможных сочетаний оставшихся 3 карт (берем подмножество без тузов)",
      "metadata": {}
    },
    {
      "cell_type": "code",
      "source": "sochetanie(48,3)",
      "metadata": {
        "trusted": true
      },
      "execution_count": 8,
      "outputs": [
        {
          "execution_count": 8,
          "output_type": "execute_result",
          "data": {
            "text/plain": "17296.0"
          },
          "metadata": {}
        }
      ]
    },
    {
      "cell_type": "markdown",
      "source": "Считаем общее число благоприятных исходов",
      "metadata": {}
    },
    {
      "cell_type": "code",
      "source": "4*17296",
      "metadata": {
        "trusted": true
      },
      "execution_count": 9,
      "outputs": [
        {
          "execution_count": 9,
          "output_type": "execute_result",
          "data": {
            "text/plain": "69184"
          },
          "metadata": {}
        }
      ]
    },
    {
      "cell_type": "markdown",
      "source": "Расчет вероятности того что одна из 4 карт будет тузом",
      "metadata": {}
    },
    {
      "cell_type": "code",
      "source": "69184/270725",
      "metadata": {
        "trusted": true
      },
      "execution_count": 10,
      "outputs": [
        {
          "execution_count": 10,
          "output_type": "execute_result",
          "data": {
            "text/plain": "0.25555083571890297"
          },
          "metadata": {}
        }
      ]
    },
    {
      "cell_type": "markdown",
      "source": "ЗАДАЧА 2\nНа входной двери подъезда установлен кодовый замок, содержащий десять кнопок с цифрами от 0 до 9. Код содержит три цифры, которые нужно нажать одновременно. Какова вероятность того, что человек, не знающий код, откроет дверь с первой попытки?",
      "metadata": {}
    },
    {
      "cell_type": "markdown",
      "source": "Число благоприятных исходов 1\nРассчитаем общее количество сочетаний при выборе 3 цифр из 10 кнопок",
      "metadata": {}
    },
    {
      "cell_type": "code",
      "source": "sochetanie(10,3)",
      "metadata": {
        "trusted": true
      },
      "execution_count": 11,
      "outputs": [
        {
          "execution_count": 11,
          "output_type": "execute_result",
          "data": {
            "text/plain": "120.0"
          },
          "metadata": {}
        }
      ]
    },
    {
      "cell_type": "markdown",
      "source": "Расчет вероятности с первого раза угадать код",
      "metadata": {}
    },
    {
      "cell_type": "code",
      "source": "1/120",
      "metadata": {
        "trusted": true
      },
      "execution_count": 12,
      "outputs": [
        {
          "execution_count": 12,
          "output_type": "execute_result",
          "data": {
            "text/plain": "0.008333333333333333"
          },
          "metadata": {}
        }
      ]
    },
    {
      "cell_type": "markdown",
      "source": "ЗАДАЧА 3\nВ ящике имеется 15 деталей, из которых 9 окрашены. Рабочий случайным образом извлекает 3 детали. Какова вероятность того, что все извлеченные детали окрашены?\nРасчитаем общее число возможных сочетаний при извлечении 3х деталий из 15 (порядок не важен)",
      "metadata": {}
    },
    {
      "cell_type": "code",
      "source": "sochetanie(15,3)",
      "metadata": {
        "trusted": true
      },
      "execution_count": 13,
      "outputs": [
        {
          "execution_count": 13,
          "output_type": "execute_result",
          "data": {
            "text/plain": "455.0"
          },
          "metadata": {}
        }
      ]
    },
    {
      "cell_type": "markdown",
      "source": "Количество возможных сочетаний из 3х деталей, из 9 окрашенных",
      "metadata": {}
    },
    {
      "cell_type": "code",
      "source": "sochetanie(9,3)",
      "metadata": {
        "trusted": true
      },
      "execution_count": 14,
      "outputs": [
        {
          "execution_count": 14,
          "output_type": "execute_result",
          "data": {
            "text/plain": "84.0"
          },
          "metadata": {}
        }
      ]
    },
    {
      "cell_type": "markdown",
      "source": "Расчет вероятности вытащить 3 окрашенные детали",
      "metadata": {}
    },
    {
      "cell_type": "code",
      "source": "84/455",
      "metadata": {
        "trusted": true
      },
      "execution_count": 15,
      "outputs": [
        {
          "execution_count": 15,
          "output_type": "execute_result",
          "data": {
            "text/plain": "0.18461538461538463"
          },
          "metadata": {}
        }
      ]
    },
    {
      "cell_type": "markdown",
      "source": "ЗАДАЧА 4\nВ лотерее 100 билетов. Из них 2 выигрышных. Какова вероятность того, что 2 приобретенных билета окажутся выигрышными?\nЧисло благоприятных исходов 1\nРассчитаем общее количество сочетаний при выборе 2 билетов  из 100 ",
      "metadata": {}
    },
    {
      "cell_type": "code",
      "source": "sochetanie(100,2)",
      "metadata": {
        "trusted": true
      },
      "execution_count": 16,
      "outputs": [
        {
          "execution_count": 16,
          "output_type": "execute_result",
          "data": {
            "text/plain": "4950.0"
          },
          "metadata": {}
        }
      ]
    },
    {
      "cell_type": "markdown",
      "source": "Расчет вероятности вытащить 2 выйгрышных билета",
      "metadata": {}
    },
    {
      "cell_type": "code",
      "source": "1/4950",
      "metadata": {
        "trusted": true
      },
      "execution_count": 17,
      "outputs": [
        {
          "execution_count": 17,
          "output_type": "execute_result",
          "data": {
            "text/plain": "0.00020202020202020202"
          },
          "metadata": {}
        }
      ]
    },
    {
      "cell_type": "markdown",
      "source": "ЗАДАЧА 5\nНа соревновании по биатлону один из трех спортсменов стреляет и попадает в мишень. Вероятность попадания для первого спортсмена равна 0.9, для второго — 0.8, для третьего — 0.6.\nНайти вероятность того, что выстрел произведен: a). первым спортсменом б). вторым спортсменом в). третьим спортсменом.\nА - попасть в мишень\nВ1 - стреляет 1 спортсмен\nВ2 - стреляет 2 спортсмен\nВ3 - стреляет 3 спортсмен\nР(В1) = Р(В2) = Р(В) = 1/3\nР(А|B1) = 0.9\nР(А|B2) = 0.8\nР(А|B3) = 0.6\nP(A) = 1/3*0.9 + 1/3*0.8 + 1/3*0.6",
      "metadata": {}
    },
    {
      "cell_type": "code",
      "source": "1/3*0.9 + 1/3*0.8 + 1/3*0.6",
      "metadata": {
        "trusted": true
      },
      "execution_count": 19,
      "outputs": [
        {
          "execution_count": 19,
          "output_type": "execute_result",
          "data": {
            "text/plain": "0.7666666666666666"
          },
          "metadata": {}
        }
      ]
    },
    {
      "cell_type": "markdown",
      "source": "Найти вероятность того, что выстрел произведен: a). первым спортсменом\nP(B1|A) = (P(A|B1)*P(B1))/P(A)",
      "metadata": {}
    },
    {
      "cell_type": "code",
      "source": "(0.9*(1/3))/(1/3*0.9 + 1/3*0.8 + 1/3*0.6)",
      "metadata": {
        "trusted": true
      },
      "execution_count": 20,
      "outputs": [
        {
          "execution_count": 20,
          "output_type": "execute_result",
          "data": {
            "text/plain": "0.391304347826087"
          },
          "metadata": {}
        }
      ]
    },
    {
      "cell_type": "markdown",
      "source": "Найти вероятность того, что выстрел произведен: б). вторым спортсменом\nP(B2|A) = (P(A|B2)*P(B2))/P(A)",
      "metadata": {}
    },
    {
      "cell_type": "code",
      "source": "(0.8*(1/3))/(1/3*0.9 + 1/3*0.8 + 1/3*0.6)",
      "metadata": {
        "trusted": true
      },
      "execution_count": 21,
      "outputs": [
        {
          "execution_count": 21,
          "output_type": "execute_result",
          "data": {
            "text/plain": "0.3478260869565218"
          },
          "metadata": {}
        }
      ]
    },
    {
      "cell_type": "markdown",
      "source": "Найти вероятность того, что выстрел произведен:в). третьим спортсменом.\nP(B3|A) = (P(A|B3)*P(B3))/P(A)",
      "metadata": {}
    },
    {
      "cell_type": "code",
      "source": "(0.6*(1/3))/(1/3*0.9 + 1/3*0.8 + 1/3*0.6)",
      "metadata": {
        "trusted": true
      },
      "execution_count": 23,
      "outputs": [
        {
          "execution_count": 23,
          "output_type": "execute_result",
          "data": {
            "text/plain": "0.2608695652173913"
          },
          "metadata": {}
        }
      ]
    },
    {
      "cell_type": "code",
      "source": "",
      "metadata": {},
      "execution_count": null,
      "outputs": []
    }
  ]
}