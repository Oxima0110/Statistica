{
 "cells": [
  {
   "cell_type": "markdown",
   "id": "4b6d56cc",
   "metadata": {},
   "source": [
    "Задача 2\n",
    "Проведите тест гипотезы. Утверждается, что шарики для подшипников, изготовленные автоматическим станком, имеют средний диаметр 17 мм.\n",
    "Используя односторонний критерий с α=0,05, проверить эту гипотезу, если в выборке из n=100 шариков средний диаметр\n",
    "оказался равным 17.5 мм, а дисперсия известна и равна 4 кв. мм.\n",
    "Для решения используем Z критерий\n",
    "h0:m = m0\n",
    "h1:m > m0"
   ]
  },
  {
   "cell_type": "code",
   "execution_count": 2,
   "id": "1694d056",
   "metadata": {},
   "outputs": [],
   "source": [
    "a = 0.05\n",
    "n = 100\n",
    "x = 17.5\n",
    "m = 17\n",
    "D = 4\n",
    "std = D ** 0.5"
   ]
  },
  {
   "cell_type": "code",
   "execution_count": 3,
   "id": "3370cafe",
   "metadata": {},
   "outputs": [
    {
     "data": {
      "text/plain": [
       "2.5"
      ]
     },
     "execution_count": 3,
     "metadata": {},
     "output_type": "execute_result"
    }
   ],
   "source": [
    "z = (x - m)/(D ** 0.5 /(100 ** 0.5))\n",
    "z"
   ]
  },
  {
   "cell_type": "markdown",
   "id": "e1cc3900",
   "metadata": {},
   "source": [
    "z табл = 1.645\n",
    "z расчетное лежит правее z табличного и не попадает в область гипотезы\n",
    "мы отвергаем гипотезу h0"
   ]
  },
  {
   "cell_type": "markdown",
   "id": "cecb6adf",
   "metadata": {},
   "source": [
    "Задача 3\n",
    "Проведите тест гипотезы. Продавец утверждает, что средний вес пачки печенья составляет 200 г.\n",
    "Из партии извлечена выборка из 10 пачек. Вес каждой пачки составляет:\n",
    "202, 203, 199, 197, 195, 201, 200, 204, 194, 190.\n",
    "Известно, что их веса распределены нормально.\n",
    "Верно ли утверждение продавца, если учитывать, \n",
    "что доверительная вероятность равна 99%? (Провести двусторонний тест.)\n",
    "гипотеза:\n",
    "h0: средние вес = 200\n",
    "h1: средний вес != 200"
   ]
  },
  {
   "cell_type": "code",
   "execution_count": 4,
   "id": "034c1d73",
   "metadata": {},
   "outputs": [],
   "source": [
    "import numpy as np\n",
    "from scipy import stats"
   ]
  },
  {
   "cell_type": "code",
   "execution_count": 5,
   "id": "a3f5f883",
   "metadata": {},
   "outputs": [],
   "source": [
    "x = np.array([202, 203, 199, 197, 195, 201, 200, 204, 194, 190])"
   ]
  },
  {
   "cell_type": "code",
   "execution_count": 6,
   "id": "f9a1b5c6",
   "metadata": {},
   "outputs": [
    {
     "data": {
      "text/plain": [
       "198.5"
      ]
     },
     "execution_count": 6,
     "metadata": {},
     "output_type": "execute_result"
    }
   ],
   "source": [
    "np.mean(x)"
   ]
  },
  {
   "cell_type": "code",
   "execution_count": 7,
   "id": "a90fa463",
   "metadata": {},
   "outputs": [
    {
     "data": {
      "text/plain": [
       "10"
      ]
     },
     "execution_count": 7,
     "metadata": {},
     "output_type": "execute_result"
    }
   ],
   "source": [
    "len(x)"
   ]
  },
  {
   "cell_type": "code",
   "execution_count": 8,
   "id": "94d72b9e",
   "metadata": {},
   "outputs": [
    {
     "data": {
      "text/plain": [
       "4.453463071962462"
      ]
     },
     "execution_count": 8,
     "metadata": {},
     "output_type": "execute_result"
    }
   ],
   "source": [
    "np.std(x, ddof = 1)"
   ]
  },
  {
   "cell_type": "markdown",
   "id": "2a830d42",
   "metadata": {},
   "source": [
    "a = 0.005\n",
    "t01 = 3.25 и t02 = -3.25 табличная величина"
   ]
  },
  {
   "cell_type": "code",
   "execution_count": 9,
   "id": "06c3775c",
   "metadata": {},
   "outputs": [
    {
     "data": {
      "text/plain": [
       "-1.0651074037450896"
      ]
     },
     "execution_count": 9,
     "metadata": {},
     "output_type": "execute_result"
    }
   ],
   "source": [
    "t = (np.mean(x) - 200)/(np.std(x, ddof = 1)/len(x)**0.5)\n",
    "t"
   ]
  },
  {
   "cell_type": "code",
   "execution_count": null,
   "id": "9258df56",
   "metadata": {},
   "outputs": [],
   "source": [
    "t наблюдаемое попадает в область гипотезы h0, гипотеза верна "
   ]
  },
  {
   "cell_type": "markdown",
   "id": "a58b82a3",
   "metadata": {},
   "source": [
    "Задача 4\n",
    "Задачу 4 решать с помощью функции. Есть ли статистически значимые различия в росте дочерей?\n",
    "Рост матерей 172, 177, 158, 170, 178,175, 164, 160, 169\n",
    "Рост взрослых дочерей: 173, 175, 162, 174, 175, 168, 155, 170, 160\n",
    "матери и дочери зависимые выборки\n",
    "a = 0.05\n",
    "h0: m = m0 рост дочерей зависит от роста матерей\n",
    "h1: m != m0 рост дочерей не зависит от роста матерей"
   ]
  },
  {
   "cell_type": "code",
   "execution_count": 10,
   "id": "da9966f6",
   "metadata": {},
   "outputs": [],
   "source": [
    "x = np.array([172, 177, 158, 170, 178,175, 164, 160, 169])\n",
    "y = np.array([173, 175, 162, 174, 175, 168, 155, 170, 160])"
   ]
  },
  {
   "cell_type": "code",
   "execution_count": 13,
   "id": "b6df73ad",
   "metadata": {},
   "outputs": [
    {
     "data": {
      "text/plain": [
       "Ttest_relResult(statistic=-0.559522990335608, pvalue=0.5911212354055175)"
      ]
     },
     "execution_count": 13,
     "metadata": {},
     "output_type": "execute_result"
    }
   ],
   "source": [
    "stats.ttest_rel(y, x)"
   ]
  },
  {
   "cell_type": "markdown",
   "id": "064f1cc7",
   "metadata": {},
   "source": [
    "pvalue=0.5911212354055175 > a = 0.05 поэтому мы принимаем гипотезу h0"
   ]
  },
  {
   "cell_type": "markdown",
   "id": "9ca96f04",
   "metadata": {},
   "source": [
    "Задание 1\n",
    "Когда используется критерий Стьюдента, а когда Z –критерий?\n",
    "Z- критерий используют когда известна дисперсия генеральной совокупности и при большом размере выборки\n",
    "Критерий Стьюдента используют если дисперсия не известна и выборка небольшьго размера"
   ]
  }
 ],
 "metadata": {
  "kernelspec": {
   "display_name": "Python 3 (ipykernel)",
   "language": "python",
   "name": "python3"
  },
  "language_info": {
   "codemirror_mode": {
    "name": "ipython",
    "version": 3
   },
   "file_extension": ".py",
   "mimetype": "text/x-python",
   "name": "python",
   "nbconvert_exporter": "python",
   "pygments_lexer": "ipython3",
   "version": "3.9.12"
  }
 },
 "nbformat": 4,
 "nbformat_minor": 5
}
