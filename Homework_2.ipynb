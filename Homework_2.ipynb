{
  "metadata": {
    "language_info": {
      "codemirror_mode": {
        "name": "python",
        "version": 3
      },
      "file_extension": ".py",
      "mimetype": "text/x-python",
      "name": "python",
      "nbconvert_exporter": "python",
      "pygments_lexer": "ipython3",
      "version": "3.8"
    },
    "kernelspec": {
      "name": "python",
      "display_name": "Python (Pyodide)",
      "language": "python"
    }
  },
  "nbformat_minor": 4,
  "nbformat": 4,
  "cells": [
    {
      "cell_type": "markdown",
      "source": "ЗАДАЧА 1\nВероятность того, что стрелок попадет в мишень, выстрелив один раз, равна 0.8. \nСтрелок выстрелил 100 раз. Найдите вероятность того, что стрелок попадет в цель ровно 85 раз.\np = 0.8\nn = 100\nx = 85\nФормула Бернули\nq = 1-0.8",
      "metadata": {}
    },
    {
      "cell_type": "code",
      "source": "from math import factorial\nimport numpy as np\n\ndef sochetanie(n, k):\n    return factorial(n)/(factorial(k)*factorial(n-k))\ndef bern(p, n, k):\n    return sochetanie(n, k) * p**(k) * (1-p)**(n-k)",
      "metadata": {
        "trusted": true
      },
      "execution_count": 1,
      "outputs": []
    },
    {
      "cell_type": "code",
      "source": "bern(0.8, 100, 85)",
      "metadata": {
        "trusted": true
      },
      "execution_count": 2,
      "outputs": [
        {
          "execution_count": 2,
          "output_type": "execute_result",
          "data": {
            "text/plain": "0.048061793700746355"
          },
          "metadata": {}
        }
      ]
    },
    {
      "cell_type": "markdown",
      "source": "ЗАДАЧА 2\nВероятность того, что лампочка перегорит в течение первого дня эксплуатации, равна 0.0004.\nВ жилом комплексе после ремонта в один день включили 5000 новых лампочек. \nКакова вероятность, что ни одна из них не перегорит в первый день? \nКакова вероятность, что перегорят ровно две?\nРаспределение Пуассона\np = 0.0004\nn = 5000\nl = p*n",
      "metadata": {}
    },
    {
      "cell_type": "code",
      "source": "def puas(l,m):\n    return l**m/factorial(m)*np.exp(-l)",
      "metadata": {
        "trusted": true
      },
      "execution_count": 3,
      "outputs": []
    },
    {
      "cell_type": "code",
      "source": "l = 5000*0.0004",
      "metadata": {
        "trusted": true
      },
      "execution_count": 4,
      "outputs": []
    },
    {
      "cell_type": "code",
      "source": "l",
      "metadata": {
        "trusted": true
      },
      "execution_count": 5,
      "outputs": [
        {
          "execution_count": 5,
          "output_type": "execute_result",
          "data": {
            "text/plain": "2.0"
          },
          "metadata": {}
        }
      ]
    },
    {
      "cell_type": "markdown",
      "source": "Какова вероятность, что ни одна из них не перегорит в первый день? \nm = 0",
      "metadata": {}
    },
    {
      "cell_type": "code",
      "source": "puas(2,0)",
      "metadata": {
        "trusted": true
      },
      "execution_count": 6,
      "outputs": [
        {
          "execution_count": 6,
          "output_type": "execute_result",
          "data": {
            "text/plain": "0.1353352832366127"
          },
          "metadata": {}
        }
      ]
    },
    {
      "cell_type": "markdown",
      "source": "Какова вероятность, что перегорят ровно две?\nm = 2",
      "metadata": {}
    },
    {
      "cell_type": "code",
      "source": "puas(2,2)",
      "metadata": {
        "trusted": true
      },
      "execution_count": 7,
      "outputs": [
        {
          "execution_count": 7,
          "output_type": "execute_result",
          "data": {
            "text/plain": "0.2706705664732254"
          },
          "metadata": {}
        }
      ]
    },
    {
      "cell_type": "markdown",
      "source": "ЗАДАЧА 3\nМонету подбросили 144 раза. Какова вероятность, что орел выпадет ровно 70 раз?\nФормула Бернули\np = 0.5\nn = 144\nx = 70",
      "metadata": {}
    },
    {
      "cell_type": "code",
      "source": "bern(0.5, 144, 70)",
      "metadata": {
        "trusted": true
      },
      "execution_count": 8,
      "outputs": [
        {
          "execution_count": 8,
          "output_type": "execute_result",
          "data": {
            "text/plain": "0.06281178035144776"
          },
          "metadata": {}
        }
      ]
    },
    {
      "cell_type": "markdown",
      "source": "ЗАДАЧА 4\nВ первом ящике находится 10 мячей, из которых 7 - белые. Во втором ящике - 11 мячей, \nиз которых 9 белых. Из каждого ящика вытаскивают случайным образом по два мяча.\n1.Какова вероятность того, что все мячи белые? \n2.Какова вероятность того, что ровно два мяча белые? \n3.Какова вероятность того, что хотя бы один мяч белый?",
      "metadata": {}
    },
    {
      "cell_type": "markdown",
      "source": "Общее кол-во сочетаний вытащить 2 мяча из первого ящика(10 мячей)",
      "metadata": {}
    },
    {
      "cell_type": "code",
      "source": "sochetanie(10, 2)",
      "metadata": {
        "trusted": true
      },
      "execution_count": 34,
      "outputs": [
        {
          "execution_count": 34,
          "output_type": "execute_result",
          "data": {
            "text/plain": "45.0"
          },
          "metadata": {}
        }
      ]
    },
    {
      "cell_type": "markdown",
      "source": "Кол-во благоприятных исходов вытащить 2 белых мяча их 1 ящика",
      "metadata": {}
    },
    {
      "cell_type": "code",
      "source": "sochetanie(7, 2)",
      "metadata": {
        "trusted": true
      },
      "execution_count": 10,
      "outputs": [
        {
          "execution_count": 10,
          "output_type": "execute_result",
          "data": {
            "text/plain": "21.0"
          },
          "metadata": {}
        }
      ]
    },
    {
      "cell_type": "markdown",
      "source": "Вероятность того что из первого ящика вытащат 2 белых мяча",
      "metadata": {}
    },
    {
      "cell_type": "code",
      "source": "21/45",
      "metadata": {
        "trusted": true
      },
      "execution_count": 11,
      "outputs": [
        {
          "execution_count": 11,
          "output_type": "execute_result",
          "data": {
            "text/plain": "0.4666666666666667"
          },
          "metadata": {}
        }
      ]
    },
    {
      "cell_type": "markdown",
      "source": "Общее кол-во сочетаний вытащить 2 мяча из 2 ящика(11 мячей)",
      "metadata": {}
    },
    {
      "cell_type": "code",
      "source": "sochetanie(11, 2)",
      "metadata": {
        "trusted": true
      },
      "execution_count": 12,
      "outputs": [
        {
          "execution_count": 12,
          "output_type": "execute_result",
          "data": {
            "text/plain": "55.0"
          },
          "metadata": {}
        }
      ]
    },
    {
      "cell_type": "markdown",
      "source": "Кол-во благоприятных исходов вытащить 2 белых мяча их 1 ящика",
      "metadata": {}
    },
    {
      "cell_type": "code",
      "source": "sochetanie(9, 2)",
      "metadata": {
        "trusted": true
      },
      "execution_count": 13,
      "outputs": [
        {
          "execution_count": 13,
          "output_type": "execute_result",
          "data": {
            "text/plain": "36.0"
          },
          "metadata": {}
        }
      ]
    },
    {
      "cell_type": "markdown",
      "source": "Вероятность того что из 2 ящика вытащат 2 белых мяча",
      "metadata": {}
    },
    {
      "cell_type": "code",
      "source": "36/55",
      "metadata": {
        "trusted": true
      },
      "execution_count": 14,
      "outputs": [
        {
          "execution_count": 14,
          "output_type": "execute_result",
          "data": {
            "text/plain": "0.6545454545454545"
          },
          "metadata": {}
        }
      ]
    },
    {
      "cell_type": "markdown",
      "source": "1.Какова вероятность того, что все мячи белые? \nP(C) = P(A)*P(B)",
      "metadata": {}
    },
    {
      "cell_type": "code",
      "source": "(21/45)*(36/55)",
      "metadata": {
        "trusted": true
      },
      "execution_count": 15,
      "outputs": [
        {
          "execution_count": 15,
          "output_type": "execute_result",
          "data": {
            "text/plain": "0.3054545454545455"
          },
          "metadata": {}
        }
      ]
    },
    {
      "cell_type": "markdown",
      "source": "2.Какова вероятность того, что ровно два мяча белые? \n- 2 из 1 + 0 из 2\n- 1 из 1 + 1 из 2\n- 0 из 1 + 2 из 2",
      "metadata": {}
    },
    {
      "cell_type": "code",
      "source": "def box1(x):\n    return sochetanie(7,x) * sochetanie (3, 2-x)/sochetanie(10, 2)\n    ",
      "metadata": {
        "trusted": true
      },
      "execution_count": 31,
      "outputs": []
    },
    {
      "cell_type": "code",
      "source": "def box2(x):\n    return sochetanie(9,x) * sochetanie (2, 2-x) /sochetanie(11, 2)",
      "metadata": {
        "trusted": true
      },
      "execution_count": 32,
      "outputs": []
    },
    {
      "cell_type": "code",
      "source": "box1(2)*box2(0) + box1(1)*box2(1) + box1(0)*box2(2)",
      "metadata": {
        "trusted": true
      },
      "execution_count": 33,
      "outputs": [
        {
          "execution_count": 33,
          "output_type": "execute_result",
          "data": {
            "text/plain": "0.20484848484848486"
          },
          "metadata": {}
        }
      ]
    },
    {
      "cell_type": "markdown",
      "source": "3.Какова вероятность того, что хотя бы один мяч белый?\n1 - вероятность что все мячи черные",
      "metadata": {}
    },
    {
      "cell_type": "code",
      "source": "(sochetanie(3, 2)/sochetanie(10, 2)) * (sochetanie(2, 2)/sochetanie(11, 2))",
      "metadata": {
        "trusted": true
      },
      "execution_count": 35,
      "outputs": [
        {
          "execution_count": 35,
          "output_type": "execute_result",
          "data": {
            "text/plain": "0.0012121212121212121"
          },
          "metadata": {}
        }
      ]
    },
    {
      "cell_type": "code",
      "source": "1 - (sochetanie(3, 2)/sochetanie(10, 2)) * (sochetanie(2, 2)/sochetanie(11, 2))",
      "metadata": {
        "trusted": true
      },
      "execution_count": 36,
      "outputs": [
        {
          "execution_count": 36,
          "output_type": "execute_result",
          "data": {
            "text/plain": "0.9987878787878788"
          },
          "metadata": {}
        }
      ]
    },
    {
      "cell_type": "code",
      "source": "",
      "metadata": {},
      "execution_count": null,
      "outputs": []
    }
  ]
}