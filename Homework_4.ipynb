{
  "metadata": {
    "language_info": {
      "codemirror_mode": {
        "name": "python",
        "version": 3
      },
      "file_extension": ".py",
      "mimetype": "text/x-python",
      "name": "python",
      "nbconvert_exporter": "python",
      "pygments_lexer": "ipython3",
      "version": "3.8"
    },
    "kernelspec": {
      "name": "python",
      "display_name": "Python (Pyodide)",
      "language": "python"
    }
  },
  "nbformat_minor": 4,
  "nbformat": 4,
  "cells": [
    {
      "cell_type": "markdown",
      "source": "ЗАДАНЕИЕ 1\nСлучайная непрерывная величина A имеет равномерное распределение на промежутке (200, 800].\nНайдите ее среднее значение и дисперсию.",
      "metadata": {}
    },
    {
      "cell_type": "code",
      "source": "a = 200\nb = 800",
      "metadata": {
        "trusted": true
      },
      "execution_count": 2,
      "outputs": []
    },
    {
      "cell_type": "code",
      "source": "M_x = (a+b)/2\nM_x",
      "metadata": {
        "trusted": true
      },
      "execution_count": 3,
      "outputs": [
        {
          "execution_count": 3,
          "output_type": "execute_result",
          "data": {
            "text/plain": "500.0"
          },
          "metadata": {}
        }
      ]
    },
    {
      "cell_type": "code",
      "source": "D_x = (b-a) **2 / 12\nD_x",
      "metadata": {
        "trusted": true
      },
      "execution_count": 5,
      "outputs": [
        {
          "execution_count": 5,
          "output_type": "execute_result",
          "data": {
            "text/plain": "30000.0"
          },
          "metadata": {}
        }
      ]
    },
    {
      "cell_type": "markdown",
      "source": "ЗАДАНИЕ 2\nО случайной непрерывной равномерно распределенной величине B известно, что ее дисперсия равна 0.2. \nМожно ли найти правую границу величины B и ее среднее значение зная, что левая граница равна 0.5? \nЕсли да, найдите ее.",
      "metadata": {}
    },
    {
      "cell_type": "code",
      "source": "D_x = 0.2\na = 0.5",
      "metadata": {
        "trusted": true
      },
      "execution_count": 6,
      "outputs": []
    },
    {
      "cell_type": "code",
      "source": "b = (12 * D_x) ** 0.5 + a\nb",
      "metadata": {
        "trusted": true
      },
      "execution_count": 8,
      "outputs": [
        {
          "execution_count": 8,
          "output_type": "execute_result",
          "data": {
            "text/plain": "2.049193338482967"
          },
          "metadata": {}
        }
      ]
    },
    {
      "cell_type": "code",
      "source": "M_x = (a+b)/2\nM_x",
      "metadata": {
        "trusted": true
      },
      "execution_count": 9,
      "outputs": [
        {
          "execution_count": 9,
          "output_type": "execute_result",
          "data": {
            "text/plain": "1.2745966692414834"
          },
          "metadata": {}
        }
      ]
    },
    {
      "cell_type": "markdown",
      "source": "ЗАДАНИЕ 3\nНепрерывная случайная величина X распределена нормально и задана плотностью распределения\nf(x) = (1 / (4 * sqrt(2pi))) * exp((-(x+2)**2) / 32) \nНайдите: а). M(X) \nб). D(X) \nв). std(X) (среднее квадратичное отклонение)",
      "metadata": {}
    },
    {
      "cell_type": "markdown",
      "source": "Из формулы:\nM(x) = -2\nD(x) = 16\nstd(x) = 4",
      "metadata": {}
    },
    {
      "cell_type": "markdown",
      "source": "ЗАДАЧА 4\nРост взрослого населения города X имеет нормальное распределение. Причем, средний рост равен 174 см, \nа среднее квадратичное отклонение равно 8 см. Какова вероятность того, что случайным образом выбранный \nвзрослый человек имеет рост: \nа). больше 182 см \nб). больше 190 см \nв). от 166 см до 190 см \nг). от 166 см до 182 см \nд). от 158 см до 190 см \nе). не выше 150 см или не ниже 190 см \nё). не выше 150 см или не ниже 198 см \nж). ниже 166 см.\nПравило 3 сигм:\nот -сигма до сигма - 68%\nот -2 сигма до 2 сигма - 95,4%\nот -3 сигма до 3 сигма - 99,72%\nM(x) = 174\nstd(x) = 8",
      "metadata": {}
    },
    {
      "cell_type": "markdown",
      "source": "а). больше 182 см\n182 = M(x) + std(x)",
      "metadata": {}
    },
    {
      "cell_type": "code",
      "source": "p = (1-0.68)/2\np",
      "metadata": {
        "trusted": true
      },
      "execution_count": 11,
      "outputs": [
        {
          "execution_count": 11,
          "output_type": "execute_result",
          "data": {
            "text/plain": "0.15999999999999998"
          },
          "metadata": {}
        }
      ]
    },
    {
      "cell_type": "markdown",
      "source": "б). больше 190 см\n190 = M(x) + 2*std(x)",
      "metadata": {}
    },
    {
      "cell_type": "code",
      "source": "p = (1-0.954)/2\np",
      "metadata": {
        "trusted": true
      },
      "execution_count": 12,
      "outputs": [
        {
          "execution_count": 12,
          "output_type": "execute_result",
          "data": {
            "text/plain": "0.02300000000000002"
          },
          "metadata": {}
        }
      ]
    },
    {
      "cell_type": "markdown",
      "source": "в). от 166 см до 190 см\nинтервал от - сигма до 2 сигма",
      "metadata": {}
    },
    {
      "cell_type": "code",
      "source": "p = 1 - (1 - 0.68)/2 - (1 - 0.954)/2\np",
      "metadata": {
        "trusted": true
      },
      "execution_count": 13,
      "outputs": [
        {
          "execution_count": 13,
          "output_type": "execute_result",
          "data": {
            "text/plain": "0.8170000000000001"
          },
          "metadata": {}
        }
      ]
    },
    {
      "cell_type": "markdown",
      "source": "г). от 166 см до 182 см \nот -сигма до сигма - 68%",
      "metadata": {}
    },
    {
      "cell_type": "markdown",
      "source": "д). от 158 см до 190 см \nот -2 сигма до 2 сигма - 95,4%",
      "metadata": {}
    },
    {
      "cell_type": "markdown",
      "source": "е). не выше 150 см или не ниже 190 см \nменьше -3 сигма или больше 2 сигма",
      "metadata": {}
    },
    {
      "cell_type": "code",
      "source": "p = (1-0.9972)/2 + (1-0.954)/2\np",
      "metadata": {
        "trusted": true
      },
      "execution_count": 14,
      "outputs": [
        {
          "execution_count": 14,
          "output_type": "execute_result",
          "data": {
            "text/plain": "0.024400000000000033"
          },
          "metadata": {}
        }
      ]
    },
    {
      "cell_type": "markdown",
      "source": "ё). не выше 150 см или не ниже 198 см \nменьше -3 сигма или больше 3 сигма",
      "metadata": {}
    },
    {
      "cell_type": "code",
      "source": "p = 1 - 0.9972\np",
      "metadata": {
        "trusted": true
      },
      "execution_count": 16,
      "outputs": [
        {
          "execution_count": 16,
          "output_type": "execute_result",
          "data": {
            "text/plain": "0.0028000000000000247"
          },
          "metadata": {}
        }
      ]
    },
    {
      "cell_type": "markdown",
      "source": "ж). ниже 166 см.\nменьше - сигма",
      "metadata": {}
    },
    {
      "cell_type": "code",
      "source": "p = (1-0.68)/2\np",
      "metadata": {
        "trusted": true
      },
      "execution_count": 17,
      "outputs": [
        {
          "execution_count": 17,
          "output_type": "execute_result",
          "data": {
            "text/plain": "0.15999999999999998"
          },
          "metadata": {}
        }
      ]
    },
    {
      "cell_type": "markdown",
      "source": "ЗАДАЧА 5\nНа сколько сигм (средних квадратичных отклонений) отклоняется рост человека, равный 190 см, \nот математического ожидания роста в популяции, в которой M(X) = 178 см и D(X) = 25 кв.см?",
      "metadata": {}
    },
    {
      "cell_type": "code",
      "source": "M_x = 178\nD_x = 25\nx = 190\nstd_x = D_x ** 0.5\nstd_x",
      "metadata": {
        "trusted": true
      },
      "execution_count": 18,
      "outputs": [
        {
          "execution_count": 18,
          "output_type": "execute_result",
          "data": {
            "text/plain": "5.0"
          },
          "metadata": {}
        }
      ]
    },
    {
      "cell_type": "code",
      "source": "z = (x - M_x) / std_x\nz",
      "metadata": {
        "trusted": true
      },
      "execution_count": 19,
      "outputs": [
        {
          "execution_count": 19,
          "output_type": "execute_result",
          "data": {
            "text/plain": "2.4"
          },
          "metadata": {}
        }
      ]
    },
    {
      "cell_type": "code",
      "source": "",
      "metadata": {},
      "execution_count": null,
      "outputs": []
    }
  ]
}