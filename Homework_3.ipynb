{
  "metadata": {
    "language_info": {
      "codemirror_mode": {
        "name": "python",
        "version": 3
      },
      "file_extension": ".py",
      "mimetype": "text/x-python",
      "name": "python",
      "nbconvert_exporter": "python",
      "pygments_lexer": "ipython3",
      "version": "3.8"
    },
    "kernelspec": {
      "name": "python",
      "display_name": "Python (Pyodide)",
      "language": "python"
    },
    "colab": {
      "provenance": []
    }
  },
  "nbformat_minor": 0,
  "nbformat": 4,
  "cells": [
    {
      "cell_type": "markdown",
      "source": [
        "ЗАДАЧА 1\n",
        "Даны значения зарплат из выборки выпускников: \n",
        "    100, 80, 75, 77, 89, 33, 45, 25, 65, 17, 30, 24, 57, 55, 70, 75, 65, 84, 90, 150. \n",
        "    Посчитать (желательно без использования статистических методов наподобие std, var, mean) \n",
        "    среднее арифметическое, медиану, \n",
        "    среднее квадратичное отклонение, \n",
        "    смещенную и несмещенную оценки дисперсий для данной выборки, интерквартильное расстояние. \n",
        "    Вывести график boxplot по выборке."
      ],
      "metadata": {
        "id": "WrOiqVMIVUY6"
      }
    },
    {
      "cell_type": "code",
      "source": [
        "arr = [100, 80, 75, 77, 89, 33, 45, 25, 65, 17, 30, 24, 57, 55, 70, 75, 65, 84, 90, 150]"
      ],
      "metadata": {
        "trusted": true,
        "id": "I0QxjapnVUY_"
      },
      "execution_count": 8,
      "outputs": []
    },
    {
      "cell_type": "markdown",
      "source": [
        "1.среднее арифметическое"
      ],
      "metadata": {
        "id": "h-rjzK9uVUZA"
      }
    },
    {
      "cell_type": "code",
      "source": [
        "arr.sort()\n",
        "x_med = sum(arr)/len(arr)\n",
        "x_med"
      ],
      "metadata": {
        "trusted": true,
        "colab": {
          "base_uri": "https://localhost:8080/"
        },
        "id": "os7CLWV8VUZA",
        "outputId": "3e6acbd3-554a-4ae6-e298-46daf262ab3c"
      },
      "execution_count": 9,
      "outputs": [
        {
          "output_type": "execute_result",
          "data": {
            "text/plain": [
              "65.3"
            ]
          },
          "metadata": {},
          "execution_count": 9
        }
      ]
    },
    {
      "cell_type": "code",
      "source": [
        "import numpy as np\n",
        "z = np.array([100, 80, 75, 77, 89, 33, 45, 25, 65, 17, 30, 24, 57, 55, 70, 75, 65, 84, 90, 150])\n",
        "z.sort\n",
        "np.mean(z)"
      ],
      "metadata": {
        "trusted": true,
        "colab": {
          "base_uri": "https://localhost:8080/"
        },
        "id": "dOs-bgT_VUZB",
        "outputId": "06742a15-38ae-4490-f7df-6ccaad9d823e"
      },
      "execution_count": 10,
      "outputs": [
        {
          "output_type": "execute_result",
          "data": {
            "text/plain": [
              "65.3"
            ]
          },
          "metadata": {},
          "execution_count": 10
        }
      ]
    },
    {
      "cell_type": "code",
      "source": [
        "\n",
        "len(arr)"
      ],
      "metadata": {
        "trusted": true,
        "colab": {
          "base_uri": "https://localhost:8080/"
        },
        "id": "jhU5T1vqVUZC",
        "outputId": "478f9ff4-364a-4108-db8e-5303e72c1941"
      },
      "execution_count": 11,
      "outputs": [
        {
          "output_type": "execute_result",
          "data": {
            "text/plain": [
              "20"
            ]
          },
          "metadata": {},
          "execution_count": 11
        }
      ]
    },
    {
      "cell_type": "code",
      "source": [
        "z.shape"
      ],
      "metadata": {
        "trusted": true,
        "colab": {
          "base_uri": "https://localhost:8080/"
        },
        "id": "1wG6DIIgVUZD",
        "outputId": "84c8fc70-3af4-4601-c451-6335633756bb"
      },
      "execution_count": 12,
      "outputs": [
        {
          "output_type": "execute_result",
          "data": {
            "text/plain": [
              "(20,)"
            ]
          },
          "metadata": {},
          "execution_count": 12
        }
      ]
    },
    {
      "cell_type": "markdown",
      "source": [
        "2.медиана"
      ],
      "metadata": {
        "id": "hKtvOVD4VUZD"
      }
    },
    {
      "cell_type": "code",
      "source": [
        "(arr[9]+arr[10])/2"
      ],
      "metadata": {
        "trusted": true,
        "colab": {
          "base_uri": "https://localhost:8080/"
        },
        "id": "GEv9inFbVUZE",
        "outputId": "45136e1a-002f-44d4-d07f-0854fd226486"
      },
      "execution_count": 13,
      "outputs": [
        {
          "output_type": "execute_result",
          "data": {
            "text/plain": [
              "67.5"
            ]
          },
          "metadata": {},
          "execution_count": 13
        }
      ]
    },
    {
      "cell_type": "code",
      "source": [
        "np.median(z)"
      ],
      "metadata": {
        "trusted": true,
        "colab": {
          "base_uri": "https://localhost:8080/"
        },
        "id": "7WEwRY-wVUZE",
        "outputId": "73e84625-483a-4be8-b43e-17ea897d574b"
      },
      "execution_count": 14,
      "outputs": [
        {
          "output_type": "execute_result",
          "data": {
            "text/plain": [
              "67.5"
            ]
          },
          "metadata": {},
          "execution_count": 14
        }
      ]
    },
    {
      "cell_type": "markdown",
      "source": [
        "3.среднее квадратичное отклонение\n"
      ],
      "metadata": {
        "id": "WwbV8eE9VUZF"
      }
    },
    {
      "cell_type": "code",
      "source": [
        "disp = (sum((x - x_med)**2 for x in arr)/len(arr))**0.5\n",
        "disp"
      ],
      "metadata": {
        "trusted": true,
        "colab": {
          "base_uri": "https://localhost:8080/"
        },
        "id": "ErIKvA6KVUZF",
        "outputId": "9063c254-0f8d-4bda-e0e8-50b617f15373"
      },
      "execution_count": 15,
      "outputs": [
        {
          "output_type": "execute_result",
          "data": {
            "text/plain": [
              "30.823854398825596"
            ]
          },
          "metadata": {},
          "execution_count": 15
        }
      ]
    },
    {
      "cell_type": "code",
      "source": [
        "np.std(z)"
      ],
      "metadata": {
        "trusted": true,
        "colab": {
          "base_uri": "https://localhost:8080/"
        },
        "id": "az9abX3TVUZF",
        "outputId": "e12ecd8a-fde1-4772-c734-ad3c54644efa"
      },
      "execution_count": 16,
      "outputs": [
        {
          "output_type": "execute_result",
          "data": {
            "text/plain": [
              "30.823854398825596"
            ]
          },
          "metadata": {},
          "execution_count": 16
        }
      ]
    },
    {
      "cell_type": "markdown",
      "source": [
        "4.смещенную и несмещенную оценки дисперсий для данной выборки"
      ],
      "metadata": {
        "id": "sVgNls--VUZG"
      }
    },
    {
      "cell_type": "markdown",
      "source": [
        "смещенная дисперсия"
      ],
      "metadata": {
        "id": "wb-3mDPAVUZG"
      }
    },
    {
      "cell_type": "code",
      "source": [
        "disp_sm = sum((x - x_med)**2 for x in arr)/len(arr)\n",
        "disp_sm"
      ],
      "metadata": {
        "trusted": true,
        "colab": {
          "base_uri": "https://localhost:8080/"
        },
        "id": "i4EmGTOEVUZG",
        "outputId": "ce9bd5f0-ef78-4ab1-ddf2-4b98a1fd3243"
      },
      "execution_count": 17,
      "outputs": [
        {
          "output_type": "execute_result",
          "data": {
            "text/plain": [
              "950.11"
            ]
          },
          "metadata": {},
          "execution_count": 17
        }
      ]
    },
    {
      "cell_type": "code",
      "source": [
        "np.var(z)"
      ],
      "metadata": {
        "trusted": true,
        "colab": {
          "base_uri": "https://localhost:8080/"
        },
        "id": "_XC69V2oVUZH",
        "outputId": "ddf408b3-9dab-409d-8777-d5113afa400d"
      },
      "execution_count": 18,
      "outputs": [
        {
          "output_type": "execute_result",
          "data": {
            "text/plain": [
              "950.11"
            ]
          },
          "metadata": {},
          "execution_count": 18
        }
      ]
    },
    {
      "cell_type": "markdown",
      "source": [
        "несмещенная дисперсия"
      ],
      "metadata": {
        "id": "rU0kq3f6Wa8a"
      }
    },
    {
      "cell_type": "code",
      "source": [
        "disp_ns = sum((x - x_med)**2 for x in arr)/(len(arr)-1)\n",
        "disp_ns"
      ],
      "metadata": {
        "trusted": true,
        "colab": {
          "base_uri": "https://localhost:8080/"
        },
        "id": "mF6R2nucVUZH",
        "outputId": "83ecec0d-080c-4f26-ffcb-68453aac97ff"
      },
      "execution_count": 19,
      "outputs": [
        {
          "output_type": "execute_result",
          "data": {
            "text/plain": [
              "1000.1157894736842"
            ]
          },
          "metadata": {},
          "execution_count": 19
        }
      ]
    },
    {
      "cell_type": "code",
      "source": [
        "np.var(z, ddof = 1)"
      ],
      "metadata": {
        "trusted": true,
        "colab": {
          "base_uri": "https://localhost:8080/"
        },
        "id": "tCAiqJA7VUZH",
        "outputId": "6af572ec-2f36-4da3-c2f9-069006f8f6ca"
      },
      "execution_count": 20,
      "outputs": [
        {
          "output_type": "execute_result",
          "data": {
            "text/plain": [
              "1000.1157894736842"
            ]
          },
          "metadata": {},
          "execution_count": 20
        }
      ]
    },
    {
      "cell_type": "markdown",
      "source": [
        "5.интерквартильное расстояние"
      ],
      "metadata": {
        "id": "hYiqynniVUZI"
      }
    },
    {
      "cell_type": "code",
      "source": [
        "def cv_ind(x):\n",
        "    return x*len(arr)/100\n",
        "cv_ind(25)"
      ],
      "metadata": {
        "trusted": true,
        "colab": {
          "base_uri": "https://localhost:8080/"
        },
        "id": "Z7uZb-omVUZI",
        "outputId": "5bae598d-4067-4303-c7b4-499f04d0cec3"
      },
      "execution_count": 21,
      "outputs": [
        {
          "output_type": "execute_result",
          "data": {
            "text/plain": [
              "5.0"
            ]
          },
          "metadata": {},
          "execution_count": 21
        }
      ]
    },
    {
      "cell_type": "code",
      "source": [
        "cv_ind(75)"
      ],
      "metadata": {
        "trusted": true,
        "colab": {
          "base_uri": "https://localhost:8080/"
        },
        "id": "DGbwVHW4VUZI",
        "outputId": "692e9f4d-8d83-47d0-b2cc-e45e5163b668"
      },
      "execution_count": 22,
      "outputs": [
        {
          "output_type": "execute_result",
          "data": {
            "text/plain": [
              "15.0"
            ]
          },
          "metadata": {},
          "execution_count": 22
        }
      ]
    },
    {
      "cell_type": "code",
      "source": [
        "(arr[4]+arr[5])/2"
      ],
      "metadata": {
        "trusted": true,
        "colab": {
          "base_uri": "https://localhost:8080/"
        },
        "id": "JKYzDRk8VUZI",
        "outputId": "c55b7406-ffc5-4e9a-aabe-52aceb0e8a40"
      },
      "execution_count": 24,
      "outputs": [
        {
          "output_type": "execute_result",
          "data": {
            "text/plain": [
              "39.0"
            ]
          },
          "metadata": {},
          "execution_count": 24
        }
      ]
    },
    {
      "cell_type": "code",
      "source": [
        "(arr[14]+arr[15])/2"
      ],
      "metadata": {
        "trusted": true,
        "colab": {
          "base_uri": "https://localhost:8080/"
        },
        "id": "EL0nqmoUVUZJ",
        "outputId": "a2622e38-2d4e-4f3f-ca8e-50efb0a5e528"
      },
      "execution_count": 26,
      "outputs": [
        {
          "output_type": "execute_result",
          "data": {
            "text/plain": [
              "82.0"
            ]
          },
          "metadata": {},
          "execution_count": 26
        }
      ]
    },
    {
      "cell_type": "code",
      "source": [
        "(arr[14]+arr[15])/2 - (arr[4]+arr[5])/2"
      ],
      "metadata": {
        "trusted": true,
        "colab": {
          "base_uri": "https://localhost:8080/"
        },
        "id": "PAudzLfxVUZJ",
        "outputId": "a23b565a-1e06-4765-9fa1-56010bc48f50"
      },
      "execution_count": 28,
      "outputs": [
        {
          "output_type": "execute_result",
          "data": {
            "text/plain": [
              "43.0"
            ]
          },
          "metadata": {},
          "execution_count": 28
        }
      ]
    },
    {
      "cell_type": "markdown",
      "source": [
        "Вывести график boxplot по выборке."
      ],
      "metadata": {
        "id": "Fs98Y_ImVUZJ"
      }
    },
    {
      "cell_type": "code",
      "source": [
        "import seaborn as sns"
      ],
      "metadata": {
        "id": "E86NaxOCVYKu"
      },
      "execution_count": 1,
      "outputs": []
    },
    {
      "cell_type": "code",
      "source": [
        "x = np.array([100, 80, 75, 77, 89, 33, 45, 25, 65, 17, 30, 24, 57, 55, 70, 75, 65, 84, 90, 150])\n",
        "z = np.sort(z)"
      ],
      "metadata": {
        "id": "8fHpDzvPVgOE"
      },
      "execution_count": 41,
      "outputs": []
    },
    {
      "cell_type": "code",
      "source": [
        "sns.boxplot(data = x)"
      ],
      "metadata": {
        "colab": {
          "base_uri": "https://localhost:8080/",
          "height": 282
        },
        "id": "Sh4DpYDJV4th",
        "outputId": "35377c86-dab5-4d4c-cd92-a1dabc70ab26"
      },
      "execution_count": 42,
      "outputs": [
        {
          "output_type": "execute_result",
          "data": {
            "text/plain": [
              "<matplotlib.axes._subplots.AxesSubplot at 0x7f2eea3407f0>"
            ]
          },
          "metadata": {},
          "execution_count": 42
        },
        {
          "output_type": "display_data",
          "data": {
            "text/plain": [
              "<Figure size 432x288 with 1 Axes>"
            ],
            "image/png": "[encoded data removed]"
          },
          "metadata": {
            "needs_background": "light"
          }
        }
      ]
    },
    {
      "cell_type": "markdown",
      "source": [
        "ЗАДАЧА 2\n",
        "В первом ящике находится 8 мячей, из которых 5 - белые. \n",
        "Во втором ящике - 12 мячей, из которых 5 белых. Из первого ящика вытаскивают случайным образом два мяча,\n",
        "из второго - 4. Какова вероятность того, что 3 мяча белые?\n",
        "Варианты получить 3 белых мяча (1 ящик - 2 ящик):\n",
        "    0 - 3\n",
        "    1 - 2\n",
        "    2 - 1"
      ],
      "metadata": {
        "id": "hWrJ56vpVUZK"
      }
    },
    {
      "cell_type": "code",
      "source": [
        "from math import factorial\n",
        "\n",
        "def sochetanie(n, k):\n",
        "    return factorial(n)/(factorial(k)*factorial(n-k))\n",
        "\n",
        "def box1(x):\n",
        "    return sochetanie(5, 2 - x) * sochetanie (3, x)/sochetanie(8, 2)\n",
        "\n",
        "def box2(x):\n",
        "    return sochetanie(5, 4 - x) * sochetanie (7, x)/sochetanie(12, 4)"
      ],
      "metadata": {
        "trusted": true,
        "id": "sRVQpgQnVUZK"
      },
      "execution_count": 29,
      "outputs": []
    },
    {
      "cell_type": "code",
      "source": [
        "box1(0)*box2(3) + box1(1)*box2(2) + box1(2)*box2(1)"
      ],
      "metadata": {
        "trusted": true,
        "colab": {
          "base_uri": "https://localhost:8080/"
        },
        "id": "t5VH6Q7FVUZK",
        "outputId": "f61d4fdb-eb1c-40f0-da9d-73b2df2b90d6"
      },
      "execution_count": 30,
      "outputs": [
        {
          "output_type": "execute_result",
          "data": {
            "text/plain": [
              "0.3686868686868687"
            ]
          },
          "metadata": {},
          "execution_count": 30
        }
      ]
    },
    {
      "cell_type": "markdown",
      "source": [
        "ЗАДАЧА 3\n",
        "На соревновании по биатлону один из трех спортсменов стреляет и попадает в мишень. \n",
        "Вероятность попадания для первого спортсмена равна 0.9, для второго — 0.8, для третьего — 0.6. \n",
        "Найти вероятность того, что выстрел произведен: a). первым спортсменом \n",
        "б). вторым спортсменом \n",
        "в). третьим спортсменом."
      ],
      "metadata": {
        "id": "Vlk4WiiLVUZK"
      }
    },
    {
      "cell_type": "markdown",
      "source": [
        "А - попасть в мишень\n",
        "В1 - стреляет 1 спортсмен\n",
        "В2 - стреляет 2 спортсмен\n",
        "В3 - стреляет 3 спортсмен\n",
        "Р(В1) = Р(В2) = Р(В) = 1/3\n",
        "Р(А|B1) = 0.9\n",
        "Р(А|B2) = 0.8\n",
        "Р(А|B3) = 0.6\n",
        "P(A) = 1/3*0.9 + 1/3*0.8 + 1/3*0.6"
      ],
      "metadata": {
        "id": "uZrnm7YkVUZL"
      }
    },
    {
      "cell_type": "code",
      "source": [
        "1/3*0.9 + 1/3*0.8 + 1/3*0.6"
      ],
      "metadata": {
        "trusted": true,
        "colab": {
          "base_uri": "https://localhost:8080/"
        },
        "id": "BmCHYBtuVUZL",
        "outputId": "a7139315-0720-4338-b082-3144a39568d9"
      },
      "execution_count": 31,
      "outputs": [
        {
          "output_type": "execute_result",
          "data": {
            "text/plain": [
              "0.7666666666666666"
            ]
          },
          "metadata": {},
          "execution_count": 31
        }
      ]
    },
    {
      "cell_type": "markdown",
      "source": [
        "Найти вероятность того, что выстрел произведен: \n",
        "a). первым спортсменом\n",
        "P(B1|A) = (P(A|B1)*P(B1))/P(A)"
      ],
      "metadata": {
        "id": "PbHEUMv0VUZL"
      }
    },
    {
      "cell_type": "code",
      "source": [
        "(0.9*(1/3))/(1/3*0.9 + 1/3*0.8 + 1/3*0.6)"
      ],
      "metadata": {
        "trusted": true,
        "colab": {
          "base_uri": "https://localhost:8080/"
        },
        "id": "RWu-QmbSVUZL",
        "outputId": "404b8202-be76-4770-dc95-e8d1fec1d74f"
      },
      "execution_count": 32,
      "outputs": [
        {
          "output_type": "execute_result",
          "data": {
            "text/plain": [
              "0.391304347826087"
            ]
          },
          "metadata": {},
          "execution_count": 32
        }
      ]
    },
    {
      "cell_type": "markdown",
      "source": [
        "Найти вероятность того, что выстрел произведен:\n",
        "б). вторым спортсменом\n",
        "P(B2|A) = (P(A|B2)*P(B2))/P(A)"
      ],
      "metadata": {
        "id": "gdwsVrUtVUZL"
      }
    },
    {
      "cell_type": "code",
      "source": [
        "(0.8*(1/3))/(1/3*0.9 + 1/3*0.8 + 1/3*0.6)"
      ],
      "metadata": {
        "trusted": true,
        "colab": {
          "base_uri": "https://localhost:8080/"
        },
        "id": "HCbGyRIuVUZM",
        "outputId": "72189171-bbff-483b-a0ba-7ffa0661631d"
      },
      "execution_count": 33,
      "outputs": [
        {
          "output_type": "execute_result",
          "data": {
            "text/plain": [
              "0.3478260869565218"
            ]
          },
          "metadata": {},
          "execution_count": 33
        }
      ]
    },
    {
      "cell_type": "markdown",
      "source": [
        "Найти вероятность того, что выстрел произведен:\n",
        "в). третьим спортсменом.\n",
        "P(B3|A) = (P(A|B3)*P(B3))/P(A)"
      ],
      "metadata": {
        "id": "IJwquQUgVUZM"
      }
    },
    {
      "cell_type": "code",
      "source": [
        "(0.6*(1/3))/(1/3*0.9 + 1/3*0.8 + 1/3*0.6)"
      ],
      "metadata": {
        "trusted": true,
        "colab": {
          "base_uri": "https://localhost:8080/"
        },
        "id": "StSpG-EOVUZM",
        "outputId": "f65c5e84-e67e-490d-b312-5473729ba2cd"
      },
      "execution_count": 34,
      "outputs": [
        {
          "output_type": "execute_result",
          "data": {
            "text/plain": [
              "0.2608695652173913"
            ]
          },
          "metadata": {},
          "execution_count": 34
        }
      ]
    },
    {
      "cell_type": "markdown",
      "source": [
        "ЗАДАЧА 4\n",
        "В университет на факультеты A и B поступило равное количество студентов, а на факультет \n",
        "C студентов поступило столько же, сколько на A и B вместе. \n",
        "Вероятность того, что студент факультета A сдаст первую сессию, равна 0.8. \n",
        "Для студента факультета B эта вероятность равна 0.7, \n",
        "а для студента факультета C - 0.9. \n",
        "Студент сдал первую сессию. \n",
        "Какова вероятность, что он учится: a). на факультете A \n",
        "б). на факультете B \n",
        "в). на факультете C?"
      ],
      "metadata": {
        "id": "-2c4_HipVUZM"
      }
    },
    {
      "cell_type": "markdown",
      "source": [
        "А - сдать сессию\n",
        "В1 - сдает студент факультета А\n",
        "В2 - сдает студент факультета В\n",
        "В3 - сдает студент факультета \n",
        "Р(В1) = Р(В2) = 1/4\n",
        "Р(В3) = 1/2\n",
        "Р(А|B1) = 0.8\n",
        "Р(А|B2) = 0.7\n",
        "Р(А|B3) = 0.9\n",
        "P(A) = 1/4*0.8 + 1/4*0.7 + 1/2*0.9"
      ],
      "metadata": {
        "id": "Z0Y-0bYWVUZM"
      }
    },
    {
      "cell_type": "markdown",
      "source": [
        "Найти вероятность того, он учится: \n",
        "a). на факультете A \n",
        "P(B1|A) = (P(A|B1)*P(B1))/P(A)"
      ],
      "metadata": {
        "id": "G5-VJotwVUZN"
      }
    },
    {
      "cell_type": "code",
      "source": [
        "(0.8*(1/4))/(1/4*0.8 + 1/4*0.7 + 1/2*0.9)"
      ],
      "metadata": {
        "trusted": true,
        "id": "HjApPg9aVUZN",
        "outputId": "60d47ade-207b-4f9e-9425-d872e6d8b4a3"
      },
      "execution_count": null,
      "outputs": [
        {
          "execution_count": 40,
          "output_type": "execute_result",
          "data": {
            "text/plain": "0.24242424242424246"
          },
          "metadata": {}
        }
      ]
    },
    {
      "cell_type": "markdown",
      "source": [
        "Найти вероятность того, он учится: \n",
        "б). на факультете В \n",
        "P(B2|A) = (P(A|B2)*P(B2))/P(A)"
      ],
      "metadata": {
        "id": "ByqIEMyjVUZO"
      }
    },
    {
      "cell_type": "code",
      "source": [
        "(0.7*(1/4))/(1/4*0.8 + 1/4*0.7 + 1/2*0.9)"
      ],
      "metadata": {
        "trusted": true,
        "colab": {
          "base_uri": "https://localhost:8080/"
        },
        "id": "ot_q31aHVUZQ",
        "outputId": "92f2cfb3-d8f3-4556-9e34-6309f6ee74c2"
      },
      "execution_count": 35,
      "outputs": [
        {
          "output_type": "execute_result",
          "data": {
            "text/plain": [
              "0.21212121212121213"
            ]
          },
          "metadata": {},
          "execution_count": 35
        }
      ]
    },
    {
      "cell_type": "markdown",
      "source": [
        "Найти вероятность того, он учится: \n",
        "в). на факультете С \n",
        "P(B3|A) = (P(A|B3)*P(B3))/P(A)"
      ],
      "metadata": {
        "id": "4Prb0POLVUZQ"
      }
    },
    {
      "cell_type": "code",
      "source": [
        "(0.9*(1/2))/(1/4*0.8 + 1/4*0.7 + 1/2*0.9)"
      ],
      "metadata": {
        "trusted": true,
        "colab": {
          "base_uri": "https://localhost:8080/"
        },
        "id": "lmTr7O1yVUZQ",
        "outputId": "5c74c191-907d-4fbe-afb6-ec1d62ef17de"
      },
      "execution_count": 36,
      "outputs": [
        {
          "output_type": "execute_result",
          "data": {
            "text/plain": [
              "0.5454545454545455"
            ]
          },
          "metadata": {},
          "execution_count": 36
        }
      ]
    },
    {
      "cell_type": "markdown",
      "source": [
        "ЗАДАЧА 5\n",
        "Устройство состоит из трех деталей. \n",
        "Для первой детали вероятность выйти из строя в первый месяц равна 0.1, \n",
        "для второй - 0.2, для третьей - 0.25. \n",
        "Какова вероятность того, что в первый месяц выйдут из строя: \n",
        "    а). все детали \n",
        "    б). только две детали \n",
        "    в). хотя бы одна деталь \n",
        "    г). от одной до двух деталей?"
      ],
      "metadata": {
        "id": "FXUupY3xVUZQ"
      }
    },
    {
      "cell_type": "markdown",
      "source": [
        "p_1 = 0.1\n",
        "p_2 = 0.2\n",
        "P_3 = 0.25\n",
        "Какова вероятность того, что в первый месяц выйдут из строя: \n",
        "    а). все детали \n",
        "P1 = p_1*p_2*p_3"
      ],
      "metadata": {
        "id": "vywEYyjwVUZQ"
      }
    },
    {
      "cell_type": "code",
      "source": [
        "0.1*0.2*0.25"
      ],
      "metadata": {
        "trusted": true,
        "colab": {
          "base_uri": "https://localhost:8080/"
        },
        "id": "KRloRDDMVUZR",
        "outputId": "d20d16b5-dd50-4d06-c8c3-49e137abd147"
      },
      "execution_count": 37,
      "outputs": [
        {
          "output_type": "execute_result",
          "data": {
            "text/plain": [
              "0.005000000000000001"
            ]
          },
          "metadata": {},
          "execution_count": 37
        }
      ]
    },
    {
      "cell_type": "markdown",
      "source": [
        "б). только две детали \n",
        "вышли из строя 1 и 2 детали p_1*p_2*(1-p_3) или\n",
        "вышли из строя 2 и 3 детали p_3*p_2*(1-p_1) или\n",
        "вышли из строя 1 и 3 детали p_1*p_3*(1-p_2) или\n",
        "P2 = p_1*p_2*(1-p_3) + p_3*p_2*(1-p_1) + p_1*p_3*(1-p_2)"
      ],
      "metadata": {
        "id": "h4HZtU6lVUZR"
      }
    },
    {
      "cell_type": "code",
      "source": [
        "0.1*0.2*(1 - 0.25) + (1 - 0.1)*0.2*0.25 + 0.1*(1 - 0.2)*0.25"
      ],
      "metadata": {
        "trusted": true,
        "colab": {
          "base_uri": "https://localhost:8080/"
        },
        "id": "gtE35Q9eVUZR",
        "outputId": "8e8bf7fa-b717-47bf-c5df-015cd137ed3b"
      },
      "execution_count": 38,
      "outputs": [
        {
          "output_type": "execute_result",
          "data": {
            "text/plain": [
              "0.08000000000000002"
            ]
          },
          "metadata": {},
          "execution_count": 38
        }
      ]
    },
    {
      "cell_type": "markdown",
      "source": [
        "в). хотя бы одна деталь \n",
        "P3 = p_1*(1 -p_2)*(1-p_3) + (1 - p_1)*p_2*(1-p_3) + (1 - p_1)*(1 - p_2)*p_3"
      ],
      "metadata": {
        "id": "iRAjwz3QVUZR"
      }
    },
    {
      "cell_type": "code",
      "source": [
        "0.1*(1 - 0.2)*(1 - 0.25) + (1 - 0.1)*0.2*(1 - 0.25) + (1 - 0.1)*(1 - 0.2)*0.25"
      ],
      "metadata": {
        "trusted": true,
        "colab": {
          "base_uri": "https://localhost:8080/"
        },
        "id": "_HQAVno5VUZS",
        "outputId": "d5415116-4b65-4b09-e49d-d8763cfa8388"
      },
      "execution_count": 39,
      "outputs": [
        {
          "output_type": "execute_result",
          "data": {
            "text/plain": [
              "0.375"
            ]
          },
          "metadata": {},
          "execution_count": 39
        }
      ]
    },
    {
      "cell_type": "markdown",
      "source": [
        "г). от одной до двух деталей\n",
        "Это P2 + P3"
      ],
      "metadata": {
        "id": "1g8HCdZqVUZS"
      }
    },
    {
      "cell_type": "code",
      "source": [
        "(0.1*0.2*(1 - 0.25) + (1 - 0.1)*0.2*0.25 + 0.1*(1 - 0.2)*0.25) + (0.1*(1 - 0.2)*(1 - 0.25) + (1 - 0.1)*0.2*(1 - 0.25) + (1 - 0.1)*(1 - 0.2)*0.25)"
      ],
      "metadata": {
        "trusted": true,
        "colab": {
          "base_uri": "https://localhost:8080/"
        },
        "id": "0KXXa3AzVUZS",
        "outputId": "a5c5a077-7d41-4332-a479-ddef24a85bc3"
      },
      "execution_count": 40,
      "outputs": [
        {
          "output_type": "execute_result",
          "data": {
            "text/plain": [
              "0.455"
            ]
          },
          "metadata": {},
          "execution_count": 40
        }
      ]
    }
  ]
}