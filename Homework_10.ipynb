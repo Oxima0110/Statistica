{
 "cells": [
  {
   "cell_type": "markdown",
   "id": "6c7369a0",
   "metadata": {},
   "source": [
    "ЗАДАЧА 1\n",
    "Провести дисперсионный анализ для определения того, есть ли различия среднего роста среди \n",
    "взрослых футболистов, хоккеистов и штангистов. Даны значения роста в трех группах случайно \n",
    "выбранных спортсменов: \n",
    "Футболисты: 173, 175, 180, 178, 177, 185, 183, 182. \n",
    "Хоккеисты: 177, 179, 180, 188, 177, 172, 171, 184, 180. \n",
    "Штангисты: 172, 173, 169, 177, 166, 180, 178, 177, 172, 166, 170.\n",
    "H0: m1 = m2 = m3\n",
    "H1: H1.1: m1 != m2\n",
    "    H1.2: m1 != m3\n",
    "    H1.3: m2 != m3\n",
    "a = 0.05\n",
    "Примем гипотезу H0 о равенстве средних значений трех групп спортсменов с альтернативной гипотезой H1 о том, что средние значения не равны. В качестве уровня значимости примим a=0.05"
   ]
  },
  {
   "cell_type": "code",
   "execution_count": 2,
   "id": "8c96856e",
   "metadata": {},
   "outputs": [],
   "source": [
    "import numpy as np\n",
    "from math import sqrt\n",
    "from scipy import stats\n",
    "import matplotlib.pyplot as plt"
   ]
  },
  {
   "cell_type": "code",
   "execution_count": 3,
   "id": "bc830f2b",
   "metadata": {},
   "outputs": [],
   "source": [
    "y1 = np.array([173, 175, 180, 178, 177, 185, 183, 182])\n",
    "y2 = np.array([177, 179, 180, 188, 177, 172, 171, 184, 180])\n",
    "y3 = np.array([172, 173, 169, 177, 166, 180, 178, 177, 172, 166, 170])"
   ]
  },
  {
   "cell_type": "code",
   "execution_count": 4,
   "id": "16de7742",
   "metadata": {},
   "outputs": [],
   "source": [
    "n1 = 8\n",
    "n2 = 9\n",
    "n3 = 11\n",
    "k = 3"
   ]
  },
  {
   "cell_type": "code",
   "execution_count": 18,
   "id": "75986763",
   "metadata": {},
   "outputs": [
    {
     "data": {
      "text/plain": [
       "179.125"
      ]
     },
     "execution_count": 18,
     "metadata": {},
     "output_type": "execute_result"
    }
   ],
   "source": [
    "y1_mean = np.mean(y1)\n",
    "y1_mean"
   ]
  },
  {
   "cell_type": "code",
   "execution_count": 19,
   "id": "2a5e1bcb",
   "metadata": {},
   "outputs": [
    {
     "data": {
      "text/plain": [
       "178.66666666666666"
      ]
     },
     "execution_count": 19,
     "metadata": {},
     "output_type": "execute_result"
    }
   ],
   "source": [
    "y2_mean = np.mean(y2)\n",
    "y2_mean"
   ]
  },
  {
   "cell_type": "code",
   "execution_count": 20,
   "id": "853fc731",
   "metadata": {},
   "outputs": [
    {
     "data": {
      "text/plain": [
       "172.72727272727272"
      ]
     },
     "execution_count": 20,
     "metadata": {},
     "output_type": "execute_result"
    }
   ],
   "source": [
    "y3_mean = np.mean(y3)\n",
    "y3_mean"
   ]
  },
  {
   "cell_type": "code",
   "execution_count": 8,
   "id": "d2b63929",
   "metadata": {},
   "outputs": [
    {
     "data": {
      "text/plain": [
       "28"
      ]
     },
     "execution_count": 8,
     "metadata": {},
     "output_type": "execute_result"
    }
   ],
   "source": [
    "n = n1 + n2 + n3\n",
    "n"
   ]
  },
  {
   "cell_type": "code",
   "execution_count": 21,
   "id": "e6724caf",
   "metadata": {},
   "outputs": [
    {
     "data": {
      "text/plain": [
       "176.46428571428572"
      ]
     },
     "execution_count": 21,
     "metadata": {},
     "output_type": "execute_result"
    }
   ],
   "source": [
    "Y = (np.sum(y1) + np.sum(y2) + np.sum(y3))/(n)\n",
    "Y"
   ]
  },
  {
   "cell_type": "markdown",
   "id": "1daa40a4",
   "metadata": {},
   "source": [
    "Сумма квадратов отклонений среднегрупповых значений от общего среднего"
   ]
  },
  {
   "cell_type": "code",
   "execution_count": 17,
   "id": "535b029d",
   "metadata": {},
   "outputs": [
    {
     "data": {
      "text/plain": [
       "253.9074675324678"
      ]
     },
     "execution_count": 17,
     "metadata": {},
     "output_type": "execute_result"
    }
   ],
   "source": [
    "S_f = n1 * (y1_mean  -Y) ** 2 + n2 * (y2_mean - Y) ** 2 + n3 * (y3_mean - Y) ** 2\n",
    "S_f"
   ]
  },
  {
   "cell_type": "markdown",
   "id": "157ab3db",
   "metadata": {},
   "source": [
    "Остаточная сумма квадратов отклонений"
   ]
  },
  {
   "cell_type": "code",
   "execution_count": 22,
   "id": "8a240451",
   "metadata": {},
   "outputs": [
    {
     "data": {
      "text/plain": [
       "577.0568181818182"
      ]
     },
     "execution_count": 22,
     "metadata": {},
     "output_type": "execute_result"
    }
   ],
   "source": [
    "S_ost = np.sum((y1 - y1_mean) ** 2) + np.sum((y2 - y2_mean) ** 2) + np.sum((y3 - y3_mean) ** 2)\n",
    "S_ost"
   ]
  },
  {
   "cell_type": "markdown",
   "id": "679c6e0a",
   "metadata": {},
   "source": [
    "Сумма квадратов отклонений наблюдений от общего среднего"
   ]
  },
  {
   "cell_type": "code",
   "execution_count": 26,
   "id": "ce41630d",
   "metadata": {},
   "outputs": [
    {
     "data": {
      "text/plain": [
       "830.964285714286"
      ]
     },
     "execution_count": 26,
     "metadata": {},
     "output_type": "execute_result"
    }
   ],
   "source": [
    "S = S_f + S_ost\n",
    "S"
   ]
  },
  {
   "cell_type": "markdown",
   "id": "d49ad9d6",
   "metadata": {},
   "source": [
    "Факторная дисперсия"
   ]
  },
  {
   "cell_type": "code",
   "execution_count": 27,
   "id": "6cd460d5",
   "metadata": {},
   "outputs": [
    {
     "data": {
      "text/plain": [
       "126.9537337662339"
      ]
     },
     "execution_count": 27,
     "metadata": {},
     "output_type": "execute_result"
    }
   ],
   "source": [
    "D_f = S_f / (k - 1)\n",
    "D_f"
   ]
  },
  {
   "cell_type": "markdown",
   "id": "ad253ed4",
   "metadata": {},
   "source": [
    "Остаточная дисперсия"
   ]
  },
  {
   "cell_type": "code",
   "execution_count": 28,
   "id": "2cba4fa8",
   "metadata": {},
   "outputs": [
    {
     "data": {
      "text/plain": [
       "23.08227272727273"
      ]
     },
     "execution_count": 28,
     "metadata": {},
     "output_type": "execute_result"
    }
   ],
   "source": [
    "D_ost = S_ost / (n - k)\n",
    "D_ost"
   ]
  },
  {
   "cell_type": "markdown",
   "id": "d0a3a3be",
   "metadata": {},
   "source": [
    "Расчетный критерий Фишера"
   ]
  },
  {
   "cell_type": "code",
   "execution_count": 29,
   "id": "af0d239d",
   "metadata": {},
   "outputs": [
    {
     "data": {
      "text/plain": [
       "5.500053450812598"
      ]
     },
     "execution_count": 29,
     "metadata": {},
     "output_type": "execute_result"
    }
   ],
   "source": [
    "F_n = D_f / D_ost\n",
    "F_n"
   ]
  },
  {
   "cell_type": "markdown",
   "id": "ebf5c0f2",
   "metadata": {},
   "source": [
    "Табличное значение критерия F_tab(2,25) = 3,38\n",
    "Поскольку F_n > F_tab, отвергаем гипотезу H0 и делаем вывод о том, что рост спортсменов \n",
    "имеет статистически значимое различие\n",
    "Проверка:"
   ]
  },
  {
   "cell_type": "code",
   "execution_count": 30,
   "id": "3c927956",
   "metadata": {},
   "outputs": [
    {
     "data": {
      "text/plain": [
       "F_onewayResult(statistic=5.500053450812596, pvalue=0.010482206918698694)"
      ]
     },
     "execution_count": 30,
     "metadata": {},
     "output_type": "execute_result"
    }
   ],
   "source": [
    "stats.f_oneway(y1,y2,y3)"
   ]
  },
  {
   "cell_type": "markdown",
   "id": "8ca12e47",
   "metadata": {},
   "source": [
    "pvalue (0.01) < a(0.05)\n",
    "Также делаем вывод в пользу альтернативной гипотезы H1"
   ]
  }
 ],
 "metadata": {
  "kernelspec": {
   "display_name": "Python 3 (ipykernel)",
   "language": "python",
   "name": "python3"
  },
  "language_info": {
   "codemirror_mode": {
    "name": "ipython",
    "version": 3
   },
   "file_extension": ".py",
   "mimetype": "text/x-python",
   "name": "python",
   "nbconvert_exporter": "python",
   "pygments_lexer": "ipython3",
   "version": "3.9.12"
  }
 },
 "nbformat": 4,
 "nbformat_minor": 5
}
